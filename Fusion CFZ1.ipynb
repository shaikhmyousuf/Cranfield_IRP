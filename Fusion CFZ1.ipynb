{
  "nbformat": 4,
  "nbformat_minor": 0,
  "metadata": {
    "colab": {
      "name": "HEALTH RISK 1 - Fusion.ipynb",
      "provenance": [],
      "authorship_tag": "ABX9TyPXnzc8B1Btv1luleVJrFuh",
      "include_colab_link": true
    },
    "kernelspec": {
      "name": "python3",
      "display_name": "Python 3"
    },
    "language_info": {
      "name": "python"
    }
  },
  "cells": [
    {
      "cell_type": "markdown",
      "metadata": {
        "id": "view-in-github",
        "colab_type": "text"
      },
      "source": [
        "<a href=\"https://colab.research.google.com/github/shaikhmyousuf/Cranfield_IRP/blob/main/Fusion%20CFZ1.ipynb\" target=\"_parent\"><img src=\"https://colab.research.google.com/assets/colab-badge.svg\" alt=\"Open In Colab\"/></a>"
      ]
    },
    {
      "cell_type": "code",
      "source": [
        "import numpy as np"
      ],
      "metadata": {
        "id": "VZYKA4sJV4Mk"
      },
      "execution_count": 1,
      "outputs": []
    },
    {
      "cell_type": "code",
      "source": [
        ""
      ],
      "metadata": {
        "id": "US_g8MZ5ZJgr"
      },
      "execution_count": 1,
      "outputs": []
    },
    {
      "cell_type": "markdown",
      "source": [
        "#Initialise MSE data"
      ],
      "metadata": {
        "id": "zQqkMrpAZKLO"
      }
    },
    {
      "cell_type": "code",
      "execution_count": 2,
      "metadata": {
        "id": "wwiPaJpyUCGy"
      },
      "outputs": [],
      "source": [
        "#----------RADAR----------------------------------------------------------------\n",
        "mse_RAD = [0.41010252889432897,\n",
        "                    0.4161440209716934,\n",
        "                    0.36339810280645773,\n",
        "                    0.46191414890026405,\n",
        "                    0.604803947019545,\n",
        "                    0.9994516476146993,\n",
        "                    0.6237980719761205,\n",
        "                    0.45977154754549643,\n",
        "                    0.2096115235700599,\n",
        "                    0.5634793945979734,\n",
        "                    0.4015790196960131,\n",
        "                    0.4713770476588093,\n",
        "                    0.620433366423667,\n",
        "                    0.3040854006440342,\n",
        "                    0.5220594974601303,\n",
        "                    0.3038289881108873,\n",
        "                    0.3176237379911885,\n",
        "                    0.4087384094378658,\n",
        "                    0.30954708738751663,\n",
        "                    0.5012292042472543,\n",
        "                    0.5209819680318155,\n",
        "                    0.4022004514628954,\n",
        "                    0.31217483648984984,\n",
        "                    0.3633981251141764,\n",
        "                    0.5621392364559654,\n",
        "                    0.4147368943951261,\n",
        "                    0.36485328788399896]\n",
        "max_mse_RAD = 0.7234516009666163\n",
        "threshold_rad = 0.5808492427983976\n",
        "\n",
        "#----------RGB CAMERA-----------------------------------------------------------\n",
        "mse_RGB=[0.005328842398807087,\n",
        "         0.016762013262692076,\n",
        "         0.010494582987116101,\n",
        "         0.005765610502607128,\n",
        "         0.009276614787829505,\n",
        "         0.007849554552702045,\n",
        "         0.016567334050253547,\n",
        "         0.005345387064925247,\n",
        "         0.005348162209670203,\n",
        "         0.005372342869879088,\n",
        "         0.005377991406778565,\n",
        "         0.00537410331359537,\n",
        "         0.005371504259764689,\n",
        "         0.005378886008084696,\n",
        "         0.005354739742805172,\n",
        "         0.005379370381179952,\n",
        "         0.005336661917076691,\n",
        "         0.005319354249839369,\n",
        "         0.00530687751328259,\n",
        "         0.005293178855130562,\n",
        "         0.005308022179114636,\n",
        "         0.005325779829494892,\n",
        "         0.005308739902532786,\n",
        "         0.005354844945058309,\n",
        "         0.005449224454281245,\n",
        "         0.0046155077979903765,\n",
        "         0.004646542313665604]\n",
        "\n",
        "max_mse_RGB = 0.006013493077396178\n",
        "threshold_rgb = 0.006207476290492044"
      ]
    },
    {
      "cell_type": "code",
      "source": [
        "mse_rad = np.asarray(mse_RAD)\n",
        "mse_rad /= max_mse_RAD\n",
        "threshold_rad /= max_mse_RAD \n",
        "\n",
        "mse_rgb = np.asarray(mse_RGB)\n",
        "mse_rgb /= max_mse_RGB\n",
        "threshold_rgb /= max_mse_RGB "
      ],
      "metadata": {
        "id": "gOhCf6IGWm0w"
      },
      "execution_count": 3,
      "outputs": []
    },
    {
      "cell_type": "markdown",
      "source": [
        "#Fusion of thresholds tested"
      ],
      "metadata": {
        "id": "ofak_jNNbAHd"
      }
    },
    {
      "cell_type": "code",
      "source": [
        "print(threshold_rad)\n",
        "print(threshold_rgb)"
      ],
      "metadata": {
        "colab": {
          "base_uri": "https://localhost:8080/"
        },
        "id": "8OizbxYdX84g",
        "outputId": "ca9c3810-22e2-467f-a71c-9c6685404544"
      },
      "execution_count": 4,
      "outputs": [
        {
          "output_type": "stream",
          "name": "stdout",
          "text": [
            "0.8028861115550988\n",
            "1.0322579922516282\n"
          ]
        }
      ]
    },
    {
      "cell_type": "code",
      "source": [
        "weight_rgb = 0.4 #.35\n",
        "weight_rad = 0.6 #.65\n",
        "threshold_cfz = (weight_rgb*threshold_rgb) + (weight_rad*threshold_rad)\n",
        "print(threshold_cfz)"
      ],
      "metadata": {
        "colab": {
          "base_uri": "https://localhost:8080/"
        },
        "id": "NQTBYpmTYV23",
        "outputId": "2df98719-3f83-41f7-b36f-a1411c02ff06"
      },
      "execution_count": 61,
      "outputs": [
        {
          "output_type": "stream",
          "name": "stdout",
          "text": [
            "0.8946348638337105\n"
          ]
        }
      ]
    },
    {
      "cell_type": "markdown",
      "source": [
        "#Fusion of MSEs"
      ],
      "metadata": {
        "id": "zMKUDnTZbviz"
      }
    },
    {
      "cell_type": "code",
      "source": [
        "mse_cfz = (mse_rgb*weight_rgb) + (mse_rad*weight_rad)\n",
        "mse_cfz"
      ],
      "metadata": {
        "colab": {
          "base_uri": "https://localhost:8080/"
        },
        "id": "OJfqobzRbvH5",
        "outputId": "0f42b768-b7df-4390-af03-182a7727853a"
      },
      "execution_count": 62,
      "outputs": [
        {
          "output_type": "execute_result",
          "data": {
            "text/plain": [
              "array([0.69458064, 1.46009234, 0.99945595, 0.76660353, 1.11865201,\n",
              "       1.35103215, 1.61936228, 0.73687451, 0.52958702, 0.82467841,\n",
              "       0.69078085, 0.74840974, 0.87185783, 0.60998329, 0.7891556 ,\n",
              "       0.60980286, 0.61840279, 0.69281817, 0.60972319, 0.76778499,\n",
              "       0.78515443, 0.68782328, 0.61202641, 0.6575756 , 0.82868088,\n",
              "       0.65097525, 0.61166823])"
            ]
          },
          "metadata": {},
          "execution_count": 62
        }
      ]
    },
    {
      "cell_type": "code",
      "source": [
        "mse_cfz.shape"
      ],
      "metadata": {
        "colab": {
          "base_uri": "https://localhost:8080/"
        },
        "id": "OjWE8i63cLSp",
        "outputId": "d35b3331-0946-4309-d773-15478f94b8ac"
      },
      "execution_count": 63,
      "outputs": [
        {
          "output_type": "execute_result",
          "data": {
            "text/plain": [
              "(27,)"
            ]
          },
          "metadata": {},
          "execution_count": 63
        }
      ]
    },
    {
      "cell_type": "code",
      "source": [
        "import matplotlib.patches as mpatches\n",
        "from matplotlib.lines import Line2D\n",
        "import matplotlib.pyplot as plt"
      ],
      "metadata": {
        "id": "-qco7CIdcWxS"
      },
      "execution_count": 64,
      "outputs": []
    },
    {
      "cell_type": "code",
      "source": [
        "x= range(27)\n",
        "y= mse_cfz\n",
        "fig, ax = plt.subplots(figsize=(14, 7.5))\n",
        "barlist = plt.bar(x,y, width=0.5)\n",
        "barlist[0].set_color('m')\n",
        "barlist[1].set_color('m')\n",
        "barlist[2].set_color('m')\n",
        "barlist[3].set_color('y')\n",
        "barlist[4].set_color('y')\n",
        "barlist[5].set_color('y')\n",
        "barlist[6].set_color('y')\n",
        "# barlist[7].set_color('y')\n",
        "# barlist[8].set_color('y')\n",
        "plt.hlines(threshold_cfz,-1,27,color='red', linestyle='--')\n",
        "\n",
        "#Title and axes\n",
        "plt.suptitle('MSE Distribution on Test Set - CFZ1 - Fused', fontsize = 20)\n",
        "plt.title('Threshold = '+str(threshold_cfz)+'\\n'+'(Fused mse) calculated using separate obstacle free validation set')\n",
        "plt.xlabel('Samples', fontsize = 10)\n",
        "plt.ylabel('Reconstruction Error',fontsize = 10)\n",
        "plt.yticks(fontsize = 10)\n",
        "plt.xticks(range(27),fontsize = 10)\n",
        "\n",
        "#Legend\n",
        "handles, labels = plt.gca().get_legend_handles_labels()\n",
        "blue_patch = mpatches.Patch(color='tab:blue',label='No Obstacles')\n",
        "yellow_patch = mpatches.Patch(color='y',label='Obstacles')\n",
        "mag_patch = mpatches.Patch(color='magenta',label='Holding points and Desert Landscape')\n",
        "line = Line2D([0],[0], label='Threshold',color='r',linestyle='--')\n",
        "handles.extend([mag_patch, yellow_patch,blue_patch,line])\n",
        "plt.legend(handles=handles)\n",
        "\n",
        "plt.show()\n",
        "\n"
      ],
      "metadata": {
        "colab": {
          "base_uri": "https://localhost:8080/",
          "height": 467
        },
        "id": "KMZdU98JV3is",
        "outputId": "d710e23d-c8f6-46ff-a9f6-444920f3b242"
      },
      "execution_count": 65,
      "outputs": [
        {
          "output_type": "display_data",
          "data": {
            "text/plain": [
              "<Figure size 1008x540 with 1 Axes>"
            ],
            "image/png": "[encoded data removed]"
          },
          "metadata": {
            "needs_background": "light"
          }
        }
      ]
    },
    {
      "cell_type": "code",
      "source": [
        "true_action_list = []\n",
        "for k in range(27):\n",
        "    if (2<k<7):\n",
        "      action = 'stop'\n",
        "    else:\n",
        "      action = \"go\"\n",
        "    true_action_list.append(action)\n",
        "true_action_list"
      ],
      "metadata": {
        "colab": {
          "base_uri": "https://localhost:8080/"
        },
        "id": "9ZMJ9V8ZWypU",
        "outputId": "a3211ee5-8da8-4931-8b2c-f2a3b0c9ca55"
      },
      "execution_count": 66,
      "outputs": [
        {
          "output_type": "execute_result",
          "data": {
            "text/plain": [
              "['go',\n",
              " 'go',\n",
              " 'go',\n",
              " 'stop',\n",
              " 'stop',\n",
              " 'stop',\n",
              " 'stop',\n",
              " 'go',\n",
              " 'go',\n",
              " 'go',\n",
              " 'go',\n",
              " 'go',\n",
              " 'go',\n",
              " 'go',\n",
              " 'go',\n",
              " 'go',\n",
              " 'go',\n",
              " 'go',\n",
              " 'go',\n",
              " 'go',\n",
              " 'go',\n",
              " 'go',\n",
              " 'go',\n",
              " 'go',\n",
              " 'go',\n",
              " 'go',\n",
              " 'go']"
            ]
          },
          "metadata": {},
          "execution_count": 66
        }
      ]
    },
    {
      "cell_type": "code",
      "source": [
        "action_cfz = []\n",
        "for i in range(27):\n",
        "  if mse_cfz[i] > threshold_cfz:\n",
        "    action = 'stop'\n",
        "  else:\n",
        "    action = 'go'\n",
        "  action_cfz.append(action)\n",
        "action_cfz"
      ],
      "metadata": {
        "colab": {
          "base_uri": "https://localhost:8080/"
        },
        "id": "qa3iJVwWdDzS",
        "outputId": "f6d4f748-5493-4418-8935-3f78144e6f32"
      },
      "execution_count": 67,
      "outputs": [
        {
          "output_type": "execute_result",
          "data": {
            "text/plain": [
              "['go',\n",
              " 'stop',\n",
              " 'stop',\n",
              " 'go',\n",
              " 'stop',\n",
              " 'stop',\n",
              " 'stop',\n",
              " 'go',\n",
              " 'go',\n",
              " 'go',\n",
              " 'go',\n",
              " 'go',\n",
              " 'go',\n",
              " 'go',\n",
              " 'go',\n",
              " 'go',\n",
              " 'go',\n",
              " 'go',\n",
              " 'go',\n",
              " 'go',\n",
              " 'go',\n",
              " 'go',\n",
              " 'go',\n",
              " 'go',\n",
              " 'go',\n",
              " 'go',\n",
              " 'go']"
            ]
          },
          "metadata": {},
          "execution_count": 67
        }
      ]
    },
    {
      "cell_type": "code",
      "source": [
        "from sklearn.metrics import confusion_matrix\n",
        "import seaborn as sns\n",
        "from sklearn.metrics import plot_confusion_matrix"
      ],
      "metadata": {
        "id": "dZbc2tjNdUCE"
      },
      "execution_count": 68,
      "outputs": []
    },
    {
      "cell_type": "code",
      "source": [
        "cm = confusion_matrix(true_action_list, action_cfz)\n",
        "fig, ax = plt.subplots(figsize=(7.5, 7.5))\n",
        "fx = sns.heatmap(cm, annot=True, cmap='Blues',cbar=False, annot_kws={'fontsize':50})\n",
        "\n",
        "# labels the title and x, y axis of plot\n",
        "plt.suptitle('Confusion Matrix - CFZ1 - Fused', fontsize = 20)\n",
        "plt.title('threshold = '+str(threshold_cfz)+'\\n'+'(fused Thresholds)')\n",
        "\n",
        "# fx.set_xlabel('Predicted Values', )\n",
        "plt.xlabel('Predicted Values', fontsize = 20)\n",
        "plt.ylabel('Actual Values ', fontsize = 20);\n",
        "\n",
        "# labels the boxes\n",
        "fx.xaxis.set_ticklabels(['Go','Stop'])\n",
        "fx.yaxis.set_ticklabels(['Go','Stop'])\n",
        "\n",
        "\n",
        "plt.show()"
      ],
      "metadata": {
        "colab": {
          "base_uri": "https://localhost:8080/",
          "height": 533
        },
        "id": "VlBnrYCydcbh",
        "outputId": "cf7d8782-2d18-4e05-a5f8-51f6558f8252"
      },
      "execution_count": 69,
      "outputs": [
        {
          "output_type": "display_data",
          "data": {
            "text/plain": [
              "<Figure size 540x540 with 1 Axes>"
            ],
            "image/png": "[encoded data removed]"
          },
          "metadata": {
            "needs_background": "light"
          }
        }
      ]
    },
    {
      "cell_type": "code",
      "source": [
        ""
      ],
      "metadata": {
        "id": "3vlXd2BndnYr"
      },
      "execution_count": 69,
      "outputs": []
    },
    {
      "cell_type": "markdown",
      "source": [
        "#ROC - AUC - An attempt"
      ],
      "metadata": {
        "id": "zZli8oIhsQKE"
      }
    },
    {
      "cell_type": "code",
      "source": [
        ""
      ],
      "metadata": {
        "id": "YnEASF_ksUQ2"
      },
      "execution_count": 69,
      "outputs": []
    }
  ]
}