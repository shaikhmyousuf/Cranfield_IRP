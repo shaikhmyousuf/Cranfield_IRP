{
  "nbformat": 4,
  "nbformat_minor": 0,
  "metadata": {
    "colab": {
      "name": "HEALTH RISK 2 - Radar AE CFZ2 ABS.ipynb",
      "provenance": [],
      "machine_shape": "hm",
      "authorship_tag": "ABX9TyOReTjv0BbR3UoROVYiN21G",
      "include_colab_link": true
    },
    "kernelspec": {
      "name": "python3",
      "display_name": "Python 3"
    },
    "language_info": {
      "name": "python"
    },
    "accelerator": "GPU",
    "gpuClass": "standard"
  },
  "cells": [
    {
      "cell_type": "markdown",
      "metadata": {
        "id": "view-in-github",
        "colab_type": "text"
      },
      "source": [
        "<a href=\"https://colab.research.google.com/github/shaikhmyousuf/Cranfield_IRP/blob/main/Radar_AE_CFZ2.ipynb\" target=\"_parent\"><img src=\"https://colab.research.google.com/assets/colab-badge.svg\" alt=\"Open In Colab\"/></a>"
      ]
    },
    {
      "cell_type": "code",
      "source": [
        "import tensorflow as tf\n",
        "from tensorflow import keras\n",
        "import matplotlib.pyplot as plt\n",
        "import cv2\n",
        "import numpy as np\n",
        "import pandas as pd\n",
        "import os\n",
        "import matplotlib.pyplot as plt\n",
        "from keras.datasets import mnist\n",
        "from keras.layers import Input, Dense, Conv2D, MaxPooling2D, UpSampling2D, Conv2DTranspose\n",
        "from keras.models import Model\n",
        "from keras.preprocessing import image\n",
        "import statistics"
      ],
      "metadata": {
        "id": "w6Lh32tdxqS4"
      },
      "execution_count": null,
      "outputs": []
    },
    {
      "cell_type": "code",
      "source": [
        "from google.colab import drive\n",
        "drive.mount('/content/drive')"
      ],
      "metadata": {
        "colab": {
          "base_uri": "https://localhost:8080/"
        },
        "id": "Ig1CLnO_xt15",
        "outputId": "b5863967-f83f-40e3-fcb0-7a63ad290e1d"
      },
      "execution_count": null,
      "outputs": [
        {
          "output_type": "stream",
          "name": "stdout",
          "text": [
            "Mounted at /content/drive\n"
          ]
        }
      ]
    },
    {
      "cell_type": "code",
      "execution_count": null,
      "metadata": {
        "id": "kMmlMUJN_erL"
      },
      "outputs": [],
      "source": [
        "#GET LIST OF FILES\n",
        "def getListOfFiles(dirName):\n",
        "    # create a list of file and sub directories \n",
        "    # names in the given directory \n",
        "    listOfFile = os.listdir(dirName)\n",
        "    allFiles = list()\n",
        "    # Iterate over all the entries\n",
        "    for entry in listOfFile:\n",
        "        # Create full path\n",
        "        fullPath = os.path.join(dirName, entry)\n",
        "        # If entry is a directory then get the list of files in this directory \n",
        "        if os.path.isdir(fullPath):\n",
        "            allFiles = allFiles + getListOfFiles(fullPath)\n",
        "        else:\n",
        "            allFiles.append(fullPath)               \n",
        "    \n",
        "    return allFiles\n",
        "\n",
        "#READ TEXT FILES\n",
        "def readFile(fileName):\n",
        "        fileObj = open(fileName, \"r\") #opens the file in read mode\n",
        "        words = fileObj.read().splitlines() #puts the file into an array\n",
        "        fileObj.close()\n",
        "        return words\n",
        "\n",
        "def readFile2array(fileName):\n",
        "        fileObj = open(fileName, \"r\") #opens the file in read mode\n",
        "        words = fileObj.read().splitlines() #puts the file into an array\n",
        "        fileObj.close()\n",
        "        da = np.array(words)\n",
        "        return da\n",
        "\n",
        "\n",
        "#TURN TEXT FILES TO 75*4 ARRAYS\n",
        "def text_to_array(data_array):\n",
        "  bus_array = np.zeros((75,4))\n",
        "  for i in range(len(data_array)-1):\n",
        "    x = np.asarray(data_array[i].split())\n",
        "    bus_array[i]=x\n",
        "  if bus_array.any()!=0:\n",
        "    loaded_bus = bus_array\n",
        "  return loaded_bus"
      ]
    },
    {
      "cell_type": "code",
      "source": [
        "list_of_files = getListOfFiles('/content/drive/MyDrive/irp/training_data/Train_Run_2/_out_rad_lwt')"
      ],
      "metadata": {
        "id": "gsnqdbsVxbFp"
      },
      "execution_count": null,
      "outputs": []
    },
    {
      "cell_type": "code",
      "source": [
        "list_of_files[7]"
      ],
      "metadata": {
        "id": "9sF0-JKox8ek",
        "colab": {
          "base_uri": "https://localhost:8080/",
          "height": 35
        },
        "outputId": "d51c5cf2-c6c9-4409-ae07-e7ef0d786909"
      },
      "execution_count": null,
      "outputs": [
        {
          "output_type": "execute_result",
          "data": {
            "text/plain": [
              "'/content/drive/MyDrive/irp/training_data/Train_Run_2/_out_rad_lwt/143142.txt'"
            ],
            "application/vnd.google.colaboratory.intrinsic+json": {
              "type": "string"
            }
          },
          "metadata": {},
          "execution_count": 5
        }
      ]
    },
    {
      "cell_type": "code",
      "source": [
        "radar_data_list = []\n",
        "# for i in range(2):\n",
        "#   da = readFile2array(list_of_files[i])\n",
        "#   la = text_to_array(da)\n",
        "#   radar_data_list.append(la)\n",
        "\n",
        "\n",
        "for i in range(len(list_of_files)-1):\n",
        "  da = readFile2array(list_of_files[i])\n",
        "  la = text_to_array(da)\n",
        "  radar_data_list.append(la)"
      ],
      "metadata": {
        "id": "cLJcFrQVxdRl"
      },
      "execution_count": null,
      "outputs": []
    },
    {
      "cell_type": "code",
      "source": [
        "#radar_data_list"
      ],
      "metadata": {
        "id": "eXiJJB2QyjjN"
      },
      "execution_count": null,
      "outputs": []
    },
    {
      "cell_type": "code",
      "source": [
        "X_train = np.array(radar_data_list)\n",
        "X_train.shape\n",
        "X_train_elev = X_train [:,:,0]#################################################"
      ],
      "metadata": {
        "id": "69u5Z1oIxgc-"
      },
      "execution_count": null,
      "outputs": []
    },
    {
      "cell_type": "code",
      "source": [
        "X_train_elev[5].shape"
      ],
      "metadata": {
        "id": "y1jxpDcvy1qd",
        "colab": {
          "base_uri": "https://localhost:8080/"
        },
        "outputId": "24a2ed94-afe3-4a1b-d121-4be6a7ea7418"
      },
      "execution_count": null,
      "outputs": [
        {
          "output_type": "execute_result",
          "data": {
            "text/plain": [
              "(75,)"
            ]
          },
          "metadata": {},
          "execution_count": 9
        }
      ]
    },
    {
      "cell_type": "code",
      "source": [
        "minElement = np.amin(X_train_elev)\n",
        "print('Minimum element from Numpy Array : ', minElement)\n",
        "\n",
        "# Get the indices of minimum element in numpy array\n",
        "result = np.where(X_train_elev == np.amin(X_train_elev))\n",
        "print('Returned tuple of arrays :', result)\n",
        "print('List of Indices of minimum element :', result[0])"
      ],
      "metadata": {
        "id": "C4lQSevKKWQg",
        "colab": {
          "base_uri": "https://localhost:8080/"
        },
        "outputId": "b52c0acf-a111-4705-9173-d6f628e53f12"
      },
      "execution_count": null,
      "outputs": [
        {
          "output_type": "stream",
          "name": "stdout",
          "text": [
            "Minimum element from Numpy Array :  -309.9398498535156\n",
            "Returned tuple of arrays : (array([5000]), array([32]))\n",
            "List of Indices of minimum element : [5000]\n"
          ]
        }
      ]
    },
    {
      "cell_type": "code",
      "source": [
        "#X_train_elev[5000]\n",
        "X_train_elev[7]"
      ],
      "metadata": {
        "id": "Y0WtbpWuJxnA",
        "colab": {
          "base_uri": "https://localhost:8080/"
        },
        "outputId": "a22b54fa-0f90-43cb-e6bf-839c8dc87018"
      },
      "execution_count": null,
      "outputs": [
        {
          "output_type": "execute_result",
          "data": {
            "text/plain": [
              "array([-1.97627878, -1.96649349, -1.88535595, -1.94059312, -1.98663568,\n",
              "       -1.85998404, -1.97158945, -1.86510813, -1.966241  , -1.95701063,\n",
              "       -1.9633857 , -1.93125129, -1.85689354, -1.86522532, -1.89355981,\n",
              "       -1.96530938, -1.96756756, -1.97641933, -1.84479582, -1.92158198,\n",
              "       -1.96636987, -1.97420526, -1.95030677, -1.97014463, -1.97250545,\n",
              "       -1.92587173, -1.98484218, -1.95163834, -1.97175896, -1.97578573,\n",
              "       -1.9044311 , -1.95657039, -1.93530989, -1.96199   , -1.96964335,\n",
              "       -1.91906977, -1.94325888, -1.83566904, -1.99226284, -1.84241211,\n",
              "       -1.85973775, -1.95149148, -1.96525049, -1.97720456, -1.98246241,\n",
              "       -1.85220683, -1.97537041, -1.93471324, -1.94575822, -1.9653585 ,\n",
              "       -1.95649195, -1.85871792, -1.88936651, -1.95214975, -1.86454129,\n",
              "       -1.86929345, -1.90015984,  0.        ,  0.        ,  0.        ,\n",
              "        0.        ,  0.        ,  0.        ,  0.        ,  0.        ,\n",
              "        0.        ,  0.        ,  0.        ,  0.        ,  0.        ,\n",
              "        0.        ,  0.        ,  0.        ,  0.        ,  0.        ])"
            ]
          },
          "metadata": {},
          "execution_count": 11
        }
      ]
    },
    {
      "cell_type": "code",
      "source": [
        "\n",
        "mean = np.mean(X_train_elev[0])\n"
      ],
      "metadata": {
        "id": "3opsY2BiMHq-"
      },
      "execution_count": null,
      "outputs": []
    },
    {
      "cell_type": "code",
      "source": [
        ""
      ],
      "metadata": {
        "id": "rPE0nvdqRd2i"
      },
      "execution_count": null,
      "outputs": []
    },
    {
      "cell_type": "code",
      "source": [
        "X_train_elev1 = np.delete(X_train_elev,5000, axis=0)"
      ],
      "metadata": {
        "id": "ZgfUUDzCRwR0"
      },
      "execution_count": null,
      "outputs": []
    },
    {
      "cell_type": "code",
      "source": [
        "X_train_elev1.shape"
      ],
      "metadata": {
        "id": "KjUCDDLYR80B",
        "colab": {
          "base_uri": "https://localhost:8080/"
        },
        "outputId": "09c80ca7-8c21-488c-b3f2-ea9a8b1cfb2f"
      },
      "execution_count": null,
      "outputs": [
        {
          "output_type": "execute_result",
          "data": {
            "text/plain": [
              "(5873, 75)"
            ]
          },
          "metadata": {},
          "execution_count": 14
        }
      ]
    },
    {
      "cell_type": "code",
      "source": [
        "meanlist = []\n",
        "for i in range(5872):\n",
        "  m = np.mean(X_train_elev1[i])\n",
        "  meanlist.append(m)\n"
      ],
      "metadata": {
        "id": "4hJhFXKfMkkp"
      },
      "execution_count": null,
      "outputs": []
    },
    {
      "cell_type": "code",
      "source": [
        "corrupt_data = []\n",
        "for i in range(5872):\n",
        "  if meanlist[i] == 0:\n",
        "    corrupt_data.append(i)\n",
        "print(corrupt_data)\n",
        "print(len(corrupt_data))"
      ],
      "metadata": {
        "id": "wg0t1BCIOfDo",
        "colab": {
          "base_uri": "https://localhost:8080/"
        },
        "outputId": "e93f3fa4-7b42-4abe-b7b7-8e69d32b5b07"
      },
      "execution_count": null,
      "outputs": [
        {
          "output_type": "stream",
          "name": "stdout",
          "text": [
            "[1, 8, 19, 22, 31, 41, 45, 49, 59, 75, 81, 87, 90, 93, 97, 99, 109, 119, 129, 158, 167, 169, 177, 179, 181, 185, 191, 213, 218, 224, 226, 231, 239, 244, 247, 256, 259, 261, 267, 269, 271, 273, 278, 281, 283, 285, 287, 293, 295, 299, 308, 317, 319, 328, 337, 339, 346, 353, 358, 360, 368, 378, 383, 395, 397, 399, 405, 414, 420, 425, 427, 449, 457, 459, 465, 469, 474, 480, 483, 486, 489, 498, 505, 509, 528, 530, 541, 543, 554, 556, 573, 575, 578, 587, 589, 591, 593, 600, 615, 617, 623, 647, 655, 666, 670, 684, 686, 693, 696, 714, 719, 722, 741, 754, 757, 759, 768, 776, 781, 796, 800, 806, 811, 818, 835, 837, 845, 848, 864, 875, 880, 887, 889, 906, 915, 924, 930, 932, 934, 940, 952, 963, 971, 980, 983, 985, 988, 993, 998, 1003, 1006, 1011, 1018, 1021, 1024, 1030, 1032, 1036, 1040, 1042, 1048, 1054, 1062, 1066, 1071, 1073, 1076, 1079, 1085, 1096, 1102, 1107, 1123, 1134, 1143, 1148, 1150, 1169, 1174, 1176, 1182, 1190, 1197, 1201, 1217, 1241, 1245, 1265, 1267, 1274, 1278, 1281, 1286, 1297, 1304, 1316, 1324, 1327, 1331, 1343, 1348, 1354, 1358, 1366, 1370, 1373, 1380, 1382, 1384, 1386, 1407, 1409, 1414, 1425, 1430, 1437, 1439, 1441, 1446, 1450, 1455, 1457, 1468, 1470, 1475, 1481, 1498, 1500, 1502, 1517, 1523, 1534, 1541, 1543, 1549, 1556, 1561, 1565, 1572, 1585, 1591, 1596, 1604, 1606, 1623, 1627, 1633, 1637, 1641, 1655, 1658, 1662, 1682, 1684, 1686, 1700, 1702, 1706, 1708, 1710, 1713, 1715, 1718, 1720, 1726, 1730, 1732, 1737, 1739, 1742, 1749, 1751, 1754, 1757, 1762, 1767, 1769, 1771, 1776, 1791, 1795, 1800, 1802, 1804, 1824, 1834, 1843, 1849, 1851, 1864, 1878, 1883, 1888, 1891, 1897, 1899, 1905, 1913, 1925, 1930, 1932, 1942, 1952, 1954, 1959, 1963, 1978, 1988, 1999, 2005, 2020, 2047, 2064, 2069, 2072, 2082, 2091, 2102, 2107, 2125, 2129, 2135, 2147, 2150, 2158, 2178, 2183, 2192, 2199, 2202, 2214, 2256, 2263, 2280, 2286, 2292, 2296, 2300, 2305, 2310, 2313, 2324, 2330, 2346, 2360, 2366, 2419, 2426, 2434, 2436, 2442, 2456, 2458, 2460, 2462, 2465, 2468, 2472, 2474, 2478, 2484, 2486, 2489, 2493, 2499, 2501, 2506, 2508, 2515, 2526, 2532, 2534, 2536, 2543, 2546, 2548, 2550, 2565, 2575, 2583, 2588, 2592, 2596, 2599, 2602, 2606, 2608, 2610, 2614, 2622, 2628, 2634, 2647, 2650, 2662, 2668, 2693, 2701, 2717, 2722, 2727, 2741, 2754, 2756, 2760, 2770, 2773, 2785, 2790, 2798, 2805, 2818, 2820, 2822, 2835, 2861, 2868, 2876, 2878, 2886, 2906, 2909, 2917, 2924, 2927, 2931, 2946, 2948, 2950, 2952, 2955, 2962, 2965, 2969, 2972, 2983, 2989, 2999, 3004, 3009, 3011, 3015, 3019, 3023, 3030, 3039, 3042, 3048, 3051, 3056, 3059, 3064, 3067, 3073, 3075, 3084, 3091, 3093, 3095, 3097, 3103, 3109, 3111, 3113, 3119, 3121, 3124, 3126, 3140, 3142, 3151, 3157, 3168, 3173, 3191, 3193, 3195, 3197, 3201, 3211, 3243, 3249, 3251, 3256, 3267, 3269, 3271, 3286, 3294, 3306, 3310, 3318, 3331, 3334, 3343, 3347, 3349, 3357, 3361, 3363, 3384, 3386, 3393, 3395, 3399, 3443, 3445, 3447, 3449, 3453, 3462, 3488, 3492, 3522, 3527, 3531, 3536, 3540, 3542, 3544, 3547, 3556, 3558, 3561, 3567, 3573, 3578, 3583, 3585, 3590, 3592, 3597, 3601, 3603, 3605, 3636, 3641, 3644, 3646, 3669, 3676, 3680, 3687, 3696, 3699, 3701, 3707, 3717, 3733, 3738, 3743, 3748, 3752, 3754, 3763, 3773, 3777, 3795, 3802, 3805, 3807, 3813, 3819, 3838, 3841, 3846, 3848, 3855, 3857, 3859, 3873, 3875, 3886, 3894, 3900, 3905, 3911, 3918, 3922, 3926, 3928, 3932, 3956, 3964, 3971, 3979, 3986, 3993, 3995, 3998, 4015, 4029, 4031, 4033, 4045, 4055, 4069, 4076, 4081, 4085, 4088, 4090, 4092, 4094, 4096, 4098, 4100, 4102, 4107, 4125, 4132, 4134, 4141, 4145, 4158, 4163, 4168, 4175, 4181, 4184, 4192, 4195, 4204, 4222, 4232, 4237, 4246, 4248, 4256, 4258, 4260, 4265, 4269, 4271, 4275, 4285, 4292, 4295, 4309, 4311, 4315, 4330, 4333, 4343, 4353, 4364, 4367, 4370, 4405, 4408, 4410, 4419, 4422, 4435, 4437, 4441, 4449, 4481, 4487, 4494, 4497, 4518, 4529, 4539, 4541, 4543, 4545, 4547, 4551, 4568, 4573, 4581, 4586, 4592, 4600, 4602, 4609, 4617, 4631, 4633, 4641, 4643, 4652, 4660, 4663, 4667, 4669, 4685, 4710, 4712, 4715, 4717, 4719, 4722, 4732, 4734, 4738, 4740, 4744, 4746, 4748, 4751, 4754, 4756, 4758, 4764, 4770, 4780, 4799, 4801, 4804, 4806, 4808, 4836, 4840, 4854, 4867, 4871, 4876, 4880, 4882, 4885, 4888, 4890, 4892, 4894, 4896, 4900, 4907, 4910, 4914, 4920, 4929, 4935, 4952, 4960, 4966, 4995, 5007, 5014, 5018, 5026, 5040, 5058, 5061, 5067, 5069, 5074, 5087, 5089, 5091, 5094, 5104, 5117, 5123, 5126, 5131, 5134, 5139, 5148, 5162, 5181, 5184, 5186, 5189, 5193, 5203, 5205, 5211, 5220, 5232, 5243, 5246, 5249, 5251, 5263, 5271, 5273, 5278, 5298, 5306, 5324, 5326, 5335, 5341, 5344, 5347, 5353, 5359, 5363, 5369, 5377, 5392, 5395, 5406, 5410, 5423, 5428, 5435, 5439, 5445, 5447, 5477, 5481, 5488, 5491, 5497, 5499, 5513, 5521, 5525, 5531, 5533, 5535, 5541, 5566, 5570, 5572, 5576, 5583, 5585, 5595, 5597, 5605, 5609, 5611, 5616, 5618, 5631, 5633, 5635, 5637, 5652, 5668, 5672, 5679, 5684, 5693, 5695, 5697, 5699, 5711, 5713, 5717, 5727, 5729, 5731, 5742, 5749, 5760, 5762, 5765, 5774, 5777, 5782, 5786, 5789, 5792, 5804, 5807, 5813, 5818, 5823, 5826, 5828, 5830, 5840, 5844, 5859, 5861, 5869, 5871]\n",
            "872\n"
          ]
        }
      ]
    },
    {
      "cell_type": "code",
      "source": [
        "CDR = sorted(corrupt_data,reverse=True)"
      ],
      "metadata": {
        "id": "JYSPQx44VxdO"
      },
      "execution_count": null,
      "outputs": []
    },
    {
      "cell_type": "code",
      "source": [
        "CDR[0]"
      ],
      "metadata": {
        "id": "EWrICuDaV-R6",
        "colab": {
          "base_uri": "https://localhost:8080/"
        },
        "outputId": "8c2f437c-9cbf-40a9-81f5-882b8d643e1a"
      },
      "execution_count": null,
      "outputs": [
        {
          "output_type": "execute_result",
          "data": {
            "text/plain": [
              "5871"
            ]
          },
          "metadata": {},
          "execution_count": 18
        }
      ]
    },
    {
      "cell_type": "code",
      "source": [
        "X_train_elev2 = X_train_elev1\n",
        "for i in CDR:\n",
        "  X_train_elev2 = np.delete(X_train_elev2,i,axis=0)\n"
      ],
      "metadata": {
        "id": "DDoFqzj5SNTC"
      },
      "execution_count": null,
      "outputs": []
    },
    {
      "cell_type": "code",
      "source": [
        "X_train_elev2 = np.delete(X_train_elev2,8,axis=0)"
      ],
      "metadata": {
        "id": "FXZGTF2KUKFV"
      },
      "execution_count": null,
      "outputs": []
    },
    {
      "cell_type": "code",
      "source": [
        "X_train_elev2.shape"
      ],
      "metadata": {
        "id": "fsc-8_qcUjpN",
        "colab": {
          "base_uri": "https://localhost:8080/"
        },
        "outputId": "339acb71-5485-456c-8152-446b73e28ce6"
      },
      "execution_count": null,
      "outputs": [
        {
          "output_type": "execute_result",
          "data": {
            "text/plain": [
              "(5000, 75)"
            ]
          },
          "metadata": {},
          "execution_count": 21
        }
      ]
    },
    {
      "cell_type": "code",
      "source": [
        ""
      ],
      "metadata": {
        "id": "m6PWOKfnTL96"
      },
      "execution_count": null,
      "outputs": []
    },
    {
      "cell_type": "code",
      "source": [
        "meanlist\n",
        "index = meanlist.index(0)\n",
        "print(index)\n"
      ],
      "metadata": {
        "id": "NnSodpGjNNGg",
        "colab": {
          "base_uri": "https://localhost:8080/"
        },
        "outputId": "91eaa3bc-3fa0-415e-b6c9-3021cc68833f"
      },
      "execution_count": null,
      "outputs": [
        {
          "output_type": "stream",
          "name": "stdout",
          "text": [
            "1\n"
          ]
        }
      ]
    },
    {
      "cell_type": "code",
      "source": [
        "meanlist_elev2 = []\n",
        "for i in range(5000):\n",
        "  m = np.mean(X_train_elev2[i])\n",
        "  meanlist_elev2.append(m)"
      ],
      "metadata": {
        "id": "eRs9R4k_XXFv"
      },
      "execution_count": null,
      "outputs": []
    },
    {
      "cell_type": "code",
      "source": [
        "x= range(5000)\n",
        "y= meanlist_elev2\n",
        "plt.plot(x,y)\n",
        "plt.show()\n",
        "##########YES!"
      ],
      "metadata": {
        "id": "ltrKFGk1NCh8",
        "colab": {
          "base_uri": "https://localhost:8080/",
          "height": 265
        },
        "outputId": "64647221-22e9-4723-a2ec-164cf267c9d8"
      },
      "execution_count": null,
      "outputs": [
        {
          "output_type": "display_data",
          "data": {
            "text/plain": [
              "<Figure size 432x288 with 1 Axes>"
            ],
            "image/png": "[encoded data removed]"
          },
          "metadata": {
            "needs_background": "light"
          }
        }
      ]
    },
    {
      "cell_type": "code",
      "source": [
        "#minimum value of the training array\n",
        "print(np.amin(X_train_elev2))\n",
        "#next step is to add mimimum value to all values of the arrays."
      ],
      "metadata": {
        "id": "7k16jvzk3iaK",
        "colab": {
          "base_uri": "https://localhost:8080/"
        },
        "outputId": "50ef6d70-1681-495b-d683-1c5a37ba8b04"
      },
      "execution_count": null,
      "outputs": [
        {
          "output_type": "stream",
          "name": "stdout",
          "text": [
            "-1.9933711290359497\n"
          ]
        }
      ]
    },
    {
      "cell_type": "code",
      "source": [
        "#make a new training array\n",
        "X_train_elev3 = X_train_elev2"
      ],
      "metadata": {
        "id": "XdzfwTkh53vO"
      },
      "execution_count": null,
      "outputs": []
    },
    {
      "cell_type": "code",
      "source": [
        "#make an array that you add to the 5001 arrays in the training set \n",
        "#scale_array = np.full((75,),abs(np.amin(X_train_elev2)))\n",
        "scale_array = np.full((75,),4) ################################################"
      ],
      "metadata": {
        "id": "JpZ7lfXp5-po"
      },
      "execution_count": null,
      "outputs": []
    },
    {
      "cell_type": "code",
      "source": [
        "# #make a loop to add the scaling array to the trianing set\n",
        "# #after this the minimum value should be zero\n",
        "# X_train_elev4L = []\n",
        "# for i in range(5001):\n",
        "#   a = X_train_elev3[i]+scale_array\n",
        "#   X_train_elev4L.append(a)\n",
        "\n",
        "# #to check the minimum value is 0 and not negative\n",
        "# print(np.amin(X_train_elev4L))\n",
        "# #the above is a list so we must turn it into an array for training.\n",
        "# X_train_elev4 = np.array(X_train_elev4L)\n",
        "# X_train_elev4.shape\n",
        "\n",
        "# #our final training set is --- X_train_elev4 ---\n",
        "# #make sure that the testing data is also scaled up the similar way\n",
        "# #by adding the same scaling constant using the ---scale_array---\n",
        "X_train_elev4 = abs(X_train_elev2)"
      ],
      "metadata": {
        "id": "cNWGUng76ypV"
      },
      "execution_count": null,
      "outputs": []
    },
    {
      "cell_type": "code",
      "source": [
        "print(np.amax(X_train_elev4))\n",
        "print(np.amin(X_train_elev4))\n"
      ],
      "metadata": {
        "id": "LosNDFwo8F87",
        "colab": {
          "base_uri": "https://localhost:8080/"
        },
        "outputId": "6714e93e-c32d-4437-c0cd-5338d8b8dcc8"
      },
      "execution_count": null,
      "outputs": [
        {
          "output_type": "stream",
          "name": "stdout",
          "text": [
            "1.9933711290359497\n",
            "0.0\n"
          ]
        }
      ]
    },
    {
      "cell_type": "code",
      "source": [
        "encoder_input = keras.Input(shape=(75,), name='input')\n",
        "#x = keras.layers.Flatten()(encoder_input) #300\n",
        "x = keras.layers.Dense(64, activation = 'relu')(encoder_input)\n",
        "encoder_output = keras.layers.Dense(32, activation=\"relu\")(x)\n",
        "\n",
        "#encoder = keras.Model(encoder_input, encoder_output, name='encoder')\n",
        "\n",
        "decoder_input = keras.layers.Dense(64, activation=\"relu\")(encoder_output)\n",
        "#x = keras.layers.Dense(75, activation = 'relu')(decoder_input)\n",
        "#x = keras.layers.Dense(784, activation=\"relu\")(decoder_input)\n",
        "decoder_output = keras.layers.Dense(75, activation=\"relu\")(decoder_input)\n",
        "#decoder_output = keras.layers.Reshape((75,))(x)\n",
        "\n",
        "opt = tf.keras.optimizers.Adam(lr=0.001, decay=1e-6)\n",
        "\n",
        "autoencoder = keras.Model(encoder_input, decoder_output, name='autoencoder')\n",
        "autoencoder.summary()\n",
        "\n",
        "autoencoder.compile(opt, loss='mse')"
      ],
      "metadata": {
        "id": "KpHs3A_Yz5pH",
        "colab": {
          "base_uri": "https://localhost:8080/"
        },
        "outputId": "1141a4e6-eb96-4ba5-caba-00bcfdf36c25"
      },
      "execution_count": null,
      "outputs": [
        {
          "output_type": "stream",
          "name": "stdout",
          "text": [
            "Model: \"autoencoder\"\n",
            "_________________________________________________________________\n",
            " Layer (type)                Output Shape              Param #   \n",
            "=================================================================\n",
            " input (InputLayer)          [(None, 75)]              0         \n",
            "                                                                 \n",
            " dense (Dense)               (None, 64)                4864      \n",
            "                                                                 \n",
            " dense_1 (Dense)             (None, 32)                2080      \n",
            "                                                                 \n",
            " dense_2 (Dense)             (None, 64)                2112      \n",
            "                                                                 \n",
            " dense_3 (Dense)             (None, 75)                4875      \n",
            "                                                                 \n",
            "=================================================================\n",
            "Total params: 13,931\n",
            "Trainable params: 13,931\n",
            "Non-trainable params: 0\n",
            "_________________________________________________________________\n"
          ]
        },
        {
          "output_type": "stream",
          "name": "stderr",
          "text": [
            "/usr/local/lib/python3.7/dist-packages/keras/optimizer_v2/adam.py:105: UserWarning: The `lr` argument is deprecated, use `learning_rate` instead.\n",
            "  super(Adam, self).__init__(name, **kwargs)\n"
          ]
        }
      ]
    },
    {
      "cell_type": "code",
      "source": [
        "from tensorflow.keras.utils import plot_model\n",
        "plot_model(autoencoder, show_shapes=True, show_layer_names=True)"
      ],
      "metadata": {
        "colab": {
          "base_uri": "https://localhost:8080/",
          "height": 533
        },
        "id": "EhKOaLuIIO6m",
        "outputId": "efeddddb-ef05-4758-a015-39f3ea3396bb"
      },
      "execution_count": null,
      "outputs": [
        {
          "output_type": "execute_result",
          "data": {
            "image/png": "[encoded data removed]",
            "text/plain": [
              "<IPython.core.display.Image object>"
            ]
          },
          "metadata": {},
          "execution_count": 31
        }
      ]
    },
    {
      "cell_type": "code",
      "source": [
        "history = autoencoder.fit(X_train_elev4[0:4500],X_train_elev4[0:4500], epochs=40, batch_size=32, validation_split=0.1) #x,y are x,x because youre mapping x to x"
      ],
      "metadata": {
        "id": "NOZP34mz0exb",
        "colab": {
          "base_uri": "https://localhost:8080/"
        },
        "outputId": "80c2c6ad-f362-410f-f151-a00d19b55e9c"
      },
      "execution_count": null,
      "outputs": [
        {
          "output_type": "stream",
          "name": "stdout",
          "text": [
            "Epoch 1/40\n",
            "127/127 [==============================] - 3s 3ms/step - loss: 0.8364 - val_loss: 0.6323\n",
            "Epoch 2/40\n",
            "127/127 [==============================] - 0s 2ms/step - loss: 0.6014 - val_loss: 0.5568\n",
            "Epoch 3/40\n",
            "127/127 [==============================] - 0s 2ms/step - loss: 0.5422 - val_loss: 0.5461\n",
            "Epoch 4/40\n",
            "127/127 [==============================] - 0s 2ms/step - loss: 0.5356 - val_loss: 0.5396\n",
            "Epoch 5/40\n",
            "127/127 [==============================] - 0s 2ms/step - loss: 0.5056 - val_loss: 0.4860\n",
            "Epoch 6/40\n",
            "127/127 [==============================] - 0s 2ms/step - loss: 0.4780 - val_loss: 0.4840\n",
            "Epoch 7/40\n",
            "127/127 [==============================] - 0s 2ms/step - loss: 0.4765 - val_loss: 0.4828\n",
            "Epoch 8/40\n",
            "127/127 [==============================] - 0s 2ms/step - loss: 0.4755 - val_loss: 0.4821\n",
            "Epoch 9/40\n",
            "127/127 [==============================] - 0s 2ms/step - loss: 0.4749 - val_loss: 0.4815\n",
            "Epoch 10/40\n",
            "127/127 [==============================] - 0s 2ms/step - loss: 0.4744 - val_loss: 0.4809\n",
            "Epoch 11/40\n",
            "127/127 [==============================] - 0s 2ms/step - loss: 0.4740 - val_loss: 0.4806\n",
            "Epoch 12/40\n",
            "127/127 [==============================] - 0s 2ms/step - loss: 0.4737 - val_loss: 0.4804\n",
            "Epoch 13/40\n",
            "127/127 [==============================] - 0s 2ms/step - loss: 0.4734 - val_loss: 0.4800\n",
            "Epoch 14/40\n",
            "127/127 [==============================] - 0s 2ms/step - loss: 0.4732 - val_loss: 0.4800\n",
            "Epoch 15/40\n",
            "127/127 [==============================] - 0s 2ms/step - loss: 0.4731 - val_loss: 0.4800\n",
            "Epoch 16/40\n",
            "127/127 [==============================] - 0s 2ms/step - loss: 0.4731 - val_loss: 0.4799\n",
            "Epoch 17/40\n",
            "127/127 [==============================] - 0s 2ms/step - loss: 0.4462 - val_loss: 0.4298\n",
            "Epoch 18/40\n",
            "127/127 [==============================] - 0s 2ms/step - loss: 0.4229 - val_loss: 0.4296\n",
            "Epoch 19/40\n",
            "127/127 [==============================] - 0s 2ms/step - loss: 0.4117 - val_loss: 0.3802\n",
            "Epoch 20/40\n",
            "127/127 [==============================] - 0s 2ms/step - loss: 0.3729 - val_loss: 0.3795\n",
            "Epoch 21/40\n",
            "127/127 [==============================] - 0s 2ms/step - loss: 0.3727 - val_loss: 0.3794\n",
            "Epoch 22/40\n",
            "127/127 [==============================] - 0s 2ms/step - loss: 0.3727 - val_loss: 0.3794\n",
            "Epoch 23/40\n",
            "127/127 [==============================] - 0s 2ms/step - loss: 0.3727 - val_loss: 0.3794\n",
            "Epoch 24/40\n",
            "127/127 [==============================] - 0s 2ms/step - loss: 0.3726 - val_loss: 0.3794\n",
            "Epoch 25/40\n",
            "127/127 [==============================] - 0s 2ms/step - loss: 0.3726 - val_loss: 0.3793\n",
            "Epoch 26/40\n",
            "127/127 [==============================] - 0s 2ms/step - loss: 0.3726 - val_loss: 0.3794\n",
            "Epoch 27/40\n",
            "127/127 [==============================] - 0s 2ms/step - loss: 0.3726 - val_loss: 0.3794\n",
            "Epoch 28/40\n",
            "127/127 [==============================] - 0s 2ms/step - loss: 0.3726 - val_loss: 0.3793\n",
            "Epoch 29/40\n",
            "127/127 [==============================] - 0s 2ms/step - loss: 0.3725 - val_loss: 0.3794\n",
            "Epoch 30/40\n",
            "127/127 [==============================] - 0s 2ms/step - loss: 0.3725 - val_loss: 0.3793\n",
            "Epoch 31/40\n",
            "127/127 [==============================] - 0s 2ms/step - loss: 0.3725 - val_loss: 0.3793\n",
            "Epoch 32/40\n",
            "127/127 [==============================] - 0s 2ms/step - loss: 0.3725 - val_loss: 0.3793\n",
            "Epoch 33/40\n",
            "127/127 [==============================] - 0s 2ms/step - loss: 0.3725 - val_loss: 0.3793\n",
            "Epoch 34/40\n",
            "127/127 [==============================] - 0s 2ms/step - loss: 0.3725 - val_loss: 0.3792\n",
            "Epoch 35/40\n",
            "127/127 [==============================] - 0s 2ms/step - loss: 0.3708 - val_loss: 0.3401\n",
            "Epoch 36/40\n",
            "127/127 [==============================] - 0s 2ms/step - loss: 0.3236 - val_loss: 0.3292\n",
            "Epoch 37/40\n",
            "127/127 [==============================] - 0s 2ms/step - loss: 0.3225 - val_loss: 0.3292\n",
            "Epoch 38/40\n",
            "127/127 [==============================] - 0s 2ms/step - loss: 0.3225 - val_loss: 0.3291\n",
            "Epoch 39/40\n",
            "127/127 [==============================] - 0s 2ms/step - loss: 0.3225 - val_loss: 0.3291\n",
            "Epoch 40/40\n",
            "127/127 [==============================] - 0s 2ms/step - loss: 0.3225 - val_loss: 0.3291\n"
          ]
        }
      ]
    },
    {
      "cell_type": "code",
      "source": [
        ""
      ],
      "metadata": {
        "id": "er_-u3PtINQZ"
      },
      "execution_count": null,
      "outputs": []
    },
    {
      "cell_type": "code",
      "source": [
        "plt.plot(history.history['loss'])\n",
        "plt.plot(history.history['val_loss'])\n",
        "plt.title('model loss - CFZ 2 - Radar')\n",
        "plt.ylabel('loss')\n",
        "plt.xlabel('epoch')\n",
        "plt.legend(['training', 'validation'], loc='best')\n",
        "plt.show()"
      ],
      "metadata": {
        "id": "URhKw1h_-afT",
        "colab": {
          "base_uri": "https://localhost:8080/",
          "height": 295
        },
        "outputId": "436f4920-a32e-4eea-ee21-a46f5e394412"
      },
      "execution_count": null,
      "outputs": [
        {
          "output_type": "display_data",
          "data": {
            "text/plain": [
              "<Figure size 432x288 with 1 Axes>"
            ],
            "image/png": "[encoded data removed]"
          },
          "metadata": {
            "needs_background": "light"
          }
        }
      ]
    },
    {
      "cell_type": "code",
      "source": [
        "#now make the validation set using the training set\n",
        "#then run the predictions on the validation set\n",
        "val_set = X_train_elev4[4501:5001]\n",
        "predictions_val_set = autoencoder.predict(val_set)\n",
        "\n",
        "#becasue we use portion of the training set to make the validation set, we dont have to scale it"
      ],
      "metadata": {
        "id": "B9Nx1XuC1hbQ"
      },
      "execution_count": null,
      "outputs": []
    },
    {
      "cell_type": "code",
      "source": [
        "print(np.amin(X_train_elev4))"
      ],
      "metadata": {
        "id": "iAHiyETiKHYL",
        "colab": {
          "base_uri": "https://localhost:8080/"
        },
        "outputId": "e9370721-c16f-4e73-f977-afa7e6efda68"
      },
      "execution_count": null,
      "outputs": [
        {
          "output_type": "stream",
          "name": "stdout",
          "text": [
            "0.0\n"
          ]
        }
      ]
    },
    {
      "cell_type": "code",
      "source": [
        "print(np.amin(predictions_val_set))"
      ],
      "metadata": {
        "id": "zG6imfbb1zvf",
        "colab": {
          "base_uri": "https://localhost:8080/"
        },
        "outputId": "15dfff4c-d145-4b39-a332-1428c51dd152"
      },
      "execution_count": null,
      "outputs": [
        {
          "output_type": "stream",
          "name": "stdout",
          "text": [
            "0.0\n"
          ]
        }
      ]
    },
    {
      "cell_type": "code",
      "source": [
        "#now lets prepare the testing data\n",
        "#ideally the esting data should contain both obstacle and obstacle free scenarios\n",
        "#but we will begin with obstacle only for testing purposes\n",
        "list_of_files_S2 = getListOfFiles('/content/drive/MyDrive/irp/Test_Scenarios/Test_S1/_out_rad_nose')\n",
        "#list_of_files_S2 = getListOfFiles('/content/drive/MyDrive/irp/radar_nose_test')"
      ],
      "metadata": {
        "id": "omE0kwm02W_Z"
      },
      "execution_count": null,
      "outputs": []
    },
    {
      "cell_type": "code",
      "source": [
        "radar_data_list_S2 = []\n",
        "for i in range(2):\n",
        "  da = readFile2array(list_of_files_S2[i])\n",
        "  la = text_to_array(da)\n",
        "  radar_data_list_S2.append(la)"
      ],
      "metadata": {
        "id": "9fYZFSuk2ewT"
      },
      "execution_count": null,
      "outputs": []
    },
    {
      "cell_type": "code",
      "source": [
        "list_of_files_S2"
      ],
      "metadata": {
        "id": "gfW6Bo9_MbKA",
        "colab": {
          "base_uri": "https://localhost:8080/"
        },
        "outputId": "6192e864-d990-432d-cca0-4b4ec021a36e"
      },
      "execution_count": null,
      "outputs": [
        {
          "output_type": "execute_result",
          "data": {
            "text/plain": [
              "['/content/drive/MyDrive/irp/Test_Scenarios/Test_S1/_out_rad_nose/000338.txt',\n",
              " '/content/drive/MyDrive/irp/Test_Scenarios/Test_S1/_out_rad_nose/000339.txt']"
            ]
          },
          "metadata": {},
          "execution_count": 39
        }
      ]
    },
    {
      "cell_type": "code",
      "source": [
        "#isolate elevation column\n",
        "X_test = np.array(radar_data_list_S2)\n",
        "print(X_test.shape)\n",
        "X_test_elev = X_test [:,:,0] ##################################################\n",
        "print(X_test_elev.shape)"
      ],
      "metadata": {
        "id": "iBErddGr2ig2",
        "colab": {
          "base_uri": "https://localhost:8080/"
        },
        "outputId": "944b6d70-991c-4c19-9640-357807b16a62"
      },
      "execution_count": null,
      "outputs": [
        {
          "output_type": "stream",
          "name": "stdout",
          "text": [
            "(2, 75, 4)\n",
            "(2, 75)\n"
          ]
        }
      ]
    },
    {
      "cell_type": "code",
      "source": [
        ""
      ],
      "metadata": {
        "id": "aqrJYzWQD3ts"
      },
      "execution_count": null,
      "outputs": []
    },
    {
      "cell_type": "code",
      "source": [
        "#check for erroneous data\n",
        "minElement = np.amin(X_test_elev)\n",
        "print('Minimum element from Numpy Array : ', minElement)\n",
        "\n",
        "# Get the indices of minimum element in numpy array\n",
        "result = np.where(X_test_elev == np.amin(X_test_elev))\n",
        "print('Returned tuple of arrays :', result)\n",
        "print('List of Indices of minimum element :', result[0])\n",
        "#index 0 is messed up"
      ],
      "metadata": {
        "id": "ODvrFiy5Dv78",
        "colab": {
          "base_uri": "https://localhost:8080/"
        },
        "outputId": "538bdec0-2ad6-41ec-edeb-b9b2c2ac1f70"
      },
      "execution_count": null,
      "outputs": [
        {
          "output_type": "stream",
          "name": "stdout",
          "text": [
            "Minimum element from Numpy Array :  -1.9993456602096558\n",
            "Returned tuple of arrays : (array([1]), array([5]))\n",
            "List of Indices of minimum element : [1]\n"
          ]
        }
      ]
    },
    {
      "cell_type": "code",
      "source": [
        "# #scale the testing data\n",
        "\n",
        "# #make a loop to add the scaling array to the trianing set\n",
        "# #after this the minimum value should be zero\n",
        "# X_test_elevSL = []\n",
        "# for i in range(2):\n",
        "#   a = X_test_elev[i]+scale_array\n",
        "#   X_test_elevSL.append(a)\n",
        "\n",
        "# #to check the minimum value is 0 and not negative\n",
        "# print(np.amin(X_test_elevSL))\n",
        "# #the above is a list so we must turn it into an array for training.\n",
        "# X_test_elevS = np.array(X_test_elevSL)\n",
        "# X_test_elevS.shape\n",
        "\n",
        "# #our final training set is --- X_train_elev4 ---\n",
        "# #make sure that the testing data is also scaled up the similar way\n",
        "# #by adding the same scaling constant using the ---scale_array---\n",
        "X_test_elevS = abs(X_test_elev)\n"
      ],
      "metadata": {
        "id": "w0LM-9lK2pCv"
      },
      "execution_count": null,
      "outputs": []
    },
    {
      "cell_type": "code",
      "source": [
        "predictions_test_S2 = autoencoder.predict(X_test_elevS)"
      ],
      "metadata": {
        "id": "_JxQ0MB619Rl"
      },
      "execution_count": null,
      "outputs": []
    },
    {
      "cell_type": "code",
      "source": [
        "from sklearn.metrics import mean_squared_error\n",
        "from sklearn.metrics import mean_absolute_error\n",
        "from sklearn.metrics.pairwise import cosine_similarity\n",
        "import statistics\n"
      ],
      "metadata": {
        "id": "GjsxoVPnF9_9"
      },
      "execution_count": null,
      "outputs": []
    },
    {
      "cell_type": "code",
      "source": [
        "mse = mean_squared_error([X_test_elevS[1]],[predictions_test_S2[1]])\n",
        "mse_clear = mean_squared_error([val_set[40]],[predictions_val_set[40]])\n",
        "mae = mean_absolute_error([X_test_elevS[1]],[predictions_test_S2[1]])\n",
        "mae_clear = mean_absolute_error([val_set[40]],[predictions_val_set[40]])\n",
        "cs = cosine_similarity([X_test_elevS[1]],[predictions_test_S2[1]])\n",
        "cs_clear = cosine_similarity([val_set[40]],[predictions_val_set[40]])\n",
        "print('mse obstacle',mse)\n",
        "print('mse clear', mse_clear)\n",
        "print('mae obstacle',mae)\n",
        "print('mae clear', mae_clear)\n",
        "print('cs obstacle',cs)\n",
        "print('cs clear', cs_clear)"
      ],
      "metadata": {
        "id": "tnDnw92EF_Wj",
        "colab": {
          "base_uri": "https://localhost:8080/"
        },
        "outputId": "d5c974a1-6687-49b3-a1ab-d9318211bdaa"
      },
      "execution_count": null,
      "outputs": [
        {
          "output_type": "stream",
          "name": "stdout",
          "text": [
            "mse obstacle 0.2636138429370936\n",
            "mse clear 0.3048541148515657\n",
            "mae obstacle 0.1622564375400543\n",
            "mae clear 0.18064512570699057\n",
            "cs obstacle [[0.94731623]]\n",
            "cs clear [[0.94720418]]\n"
          ]
        }
      ]
    },
    {
      "cell_type": "code",
      "source": [
        "list_mse_clear = []\n",
        "for i in range(499):\n",
        "  mc = mean_squared_error(val_set[i],predictions_val_set[i])\n",
        "  list_mse_clear.append(mc)\n",
        "print('mean mse' , statistics.mean(list_mse_clear))\n",
        "print('max mse' , max(list_mse_clear))"
      ],
      "metadata": {
        "id": "w_DriGmjGvqb",
        "colab": {
          "base_uri": "https://localhost:8080/"
        },
        "outputId": "13b57c47-1173-4c9b-cd14-3d448edf4f56"
      },
      "execution_count": null,
      "outputs": [
        {
          "output_type": "stream",
          "name": "stdout",
          "text": [
            "mean mse 0.31512059124097674\n",
            "max mse 0.6517867447980759\n"
          ]
        }
      ]
    },
    {
      "cell_type": "code",
      "source": [
        ""
      ],
      "metadata": {
        "id": "-A8E2oxkSbkE"
      },
      "execution_count": null,
      "outputs": []
    },
    {
      "cell_type": "code",
      "source": [
        "#True = False"
      ],
      "metadata": {
        "id": "q8iK2bVMKzJH"
      },
      "execution_count": null,
      "outputs": []
    },
    {
      "cell_type": "code",
      "source": [
        ""
      ],
      "metadata": {
        "id": "TLmp-PISjsPh"
      },
      "execution_count": null,
      "outputs": []
    },
    {
      "cell_type": "markdown",
      "source": [
        "#Test System on unseen test set"
      ],
      "metadata": {
        "id": "NqnRS4OmjvUT"
      }
    },
    {
      "cell_type": "code",
      "source": [
        "#import and process test set \n",
        "\n",
        "#data contains both obstacle and obstacle free scenarios\n",
        "\n",
        "# list_of_files_truth = getListOfFiles('/content/drive/MyDrive/irp/test_dataset_radar/cfz1')\n",
        "\n",
        "list_of_files_truth = getListOfFiles('/content/drive/MyDrive/irp/test_mix/mix234_rad')\n",
        "\n"
      ],
      "metadata": {
        "id": "MSZ-pFYmj24b"
      },
      "execution_count": null,
      "outputs": []
    },
    {
      "cell_type": "code",
      "source": [
        "list_of_files_truth"
      ],
      "metadata": {
        "id": "cNHz8SEdFuWM",
        "colab": {
          "base_uri": "https://localhost:8080/"
        },
        "outputId": "50defef4-5fc9-435c-e39e-7ccd83fe7573"
      },
      "execution_count": null,
      "outputs": [
        {
          "output_type": "execute_result",
          "data": {
            "text/plain": [
              "['/content/drive/MyDrive/irp/test_mix/mix234_rad/006360.txt',\n",
              " '/content/drive/MyDrive/irp/test_mix/mix234_rad/06 hold.txt',\n",
              " '/content/drive/MyDrive/irp/test_mix/mix234_rad/05 desert.txt',\n",
              " '/content/drive/MyDrive/irp/test_mix/mix234_rad/09 fog.txt',\n",
              " '/content/drive/MyDrive/irp/test_mix/mix234_rad/02tail.txt',\n",
              " '/content/drive/MyDrive/irp/test_mix/mix234_rad/01wingtip.txt',\n",
              " '/content/drive/MyDrive/irp/test_mix/mix234_rad/03cube.txt',\n",
              " '/content/drive/MyDrive/irp/test_mix/mix234_rad/04pole.txt',\n",
              " '/content/drive/MyDrive/irp/test_mix/mix234_rad/002428.txt',\n",
              " '/content/drive/MyDrive/irp/test_mix/mix234_rad/002429.txt',\n",
              " '/content/drive/MyDrive/irp/test_mix/mix234_rad/002430.txt',\n",
              " '/content/drive/MyDrive/irp/test_mix/mix234_rad/002431.txt',\n",
              " '/content/drive/MyDrive/irp/test_mix/mix234_rad/002432.txt',\n",
              " '/content/drive/MyDrive/irp/test_mix/mix234_rad/002433.txt',\n",
              " '/content/drive/MyDrive/irp/test_mix/mix234_rad/002434.txt',\n",
              " '/content/drive/MyDrive/irp/test_mix/mix234_rad/002435.txt',\n",
              " '/content/drive/MyDrive/irp/test_mix/mix234_rad/002437.txt',\n",
              " '/content/drive/MyDrive/irp/test_mix/mix234_rad/002438.txt',\n",
              " '/content/drive/MyDrive/irp/test_mix/mix234_rad/002439.txt',\n",
              " '/content/drive/MyDrive/irp/test_mix/mix234_rad/002440.txt',\n",
              " '/content/drive/MyDrive/irp/test_mix/mix234_rad/002441.txt',\n",
              " '/content/drive/MyDrive/irp/test_mix/mix234_rad/002442.txt',\n",
              " '/content/drive/MyDrive/irp/test_mix/mix234_rad/002443.txt',\n",
              " '/content/drive/MyDrive/irp/test_mix/mix234_rad/002444.txt',\n",
              " '/content/drive/MyDrive/irp/test_mix/mix234_rad/002445.txt']"
            ]
          },
          "metadata": {},
          "execution_count": 49
        }
      ]
    },
    {
      "cell_type": "code",
      "source": [
        "len(list_of_files_truth)"
      ],
      "metadata": {
        "id": "a_Vw8KoUCxEK",
        "colab": {
          "base_uri": "https://localhost:8080/"
        },
        "outputId": "c2fb23f9-2283-456e-aeea-739a422eed9c"
      },
      "execution_count": null,
      "outputs": [
        {
          "output_type": "execute_result",
          "data": {
            "text/plain": [
              "25"
            ]
          },
          "metadata": {},
          "execution_count": 50
        }
      ]
    },
    {
      "cell_type": "code",
      "source": [
        "list_of_files_truth.sort(reverse=True)"
      ],
      "metadata": {
        "id": "k2yOvIrx4QnH"
      },
      "execution_count": null,
      "outputs": []
    },
    {
      "cell_type": "code",
      "source": [
        "list_of_files_truth"
      ],
      "metadata": {
        "colab": {
          "base_uri": "https://localhost:8080/"
        },
        "id": "GKMAnMON4bqB",
        "outputId": "aa5d2813-06d6-4ed5-d450-9ef1994c0957"
      },
      "execution_count": null,
      "outputs": [
        {
          "output_type": "execute_result",
          "data": {
            "text/plain": [
              "['/content/drive/MyDrive/irp/test_mix/mix234_rad/09 fog.txt',\n",
              " '/content/drive/MyDrive/irp/test_mix/mix234_rad/06 hold.txt',\n",
              " '/content/drive/MyDrive/irp/test_mix/mix234_rad/05 desert.txt',\n",
              " '/content/drive/MyDrive/irp/test_mix/mix234_rad/04pole.txt',\n",
              " '/content/drive/MyDrive/irp/test_mix/mix234_rad/03cube.txt',\n",
              " '/content/drive/MyDrive/irp/test_mix/mix234_rad/02tail.txt',\n",
              " '/content/drive/MyDrive/irp/test_mix/mix234_rad/01wingtip.txt',\n",
              " '/content/drive/MyDrive/irp/test_mix/mix234_rad/006360.txt',\n",
              " '/content/drive/MyDrive/irp/test_mix/mix234_rad/002445.txt',\n",
              " '/content/drive/MyDrive/irp/test_mix/mix234_rad/002444.txt',\n",
              " '/content/drive/MyDrive/irp/test_mix/mix234_rad/002443.txt',\n",
              " '/content/drive/MyDrive/irp/test_mix/mix234_rad/002442.txt',\n",
              " '/content/drive/MyDrive/irp/test_mix/mix234_rad/002441.txt',\n",
              " '/content/drive/MyDrive/irp/test_mix/mix234_rad/002440.txt',\n",
              " '/content/drive/MyDrive/irp/test_mix/mix234_rad/002439.txt',\n",
              " '/content/drive/MyDrive/irp/test_mix/mix234_rad/002438.txt',\n",
              " '/content/drive/MyDrive/irp/test_mix/mix234_rad/002437.txt',\n",
              " '/content/drive/MyDrive/irp/test_mix/mix234_rad/002435.txt',\n",
              " '/content/drive/MyDrive/irp/test_mix/mix234_rad/002434.txt',\n",
              " '/content/drive/MyDrive/irp/test_mix/mix234_rad/002433.txt',\n",
              " '/content/drive/MyDrive/irp/test_mix/mix234_rad/002432.txt',\n",
              " '/content/drive/MyDrive/irp/test_mix/mix234_rad/002431.txt',\n",
              " '/content/drive/MyDrive/irp/test_mix/mix234_rad/002430.txt',\n",
              " '/content/drive/MyDrive/irp/test_mix/mix234_rad/002429.txt',\n",
              " '/content/drive/MyDrive/irp/test_mix/mix234_rad/002428.txt']"
            ]
          },
          "metadata": {},
          "execution_count": 52
        }
      ]
    },
    {
      "cell_type": "code",
      "source": [
        "radar_data_list_truth = []\n",
        "for i in range(25):\n",
        "  #list_of_files_truth.sort(reverse=True)\n",
        "  da = readFile2array(list_of_files_truth[i])\n",
        "  la = text_to_array(da)\n",
        "  radar_data_list_truth.append(la)\n",
        "\n",
        "this_is_a_really_long_variable_that_doesnt_need_to_be_that_long_but_since_this_is_a_thesis_it_finally_is_going_to_be_this_long = 'this_is_a_really_long_variable_that_doesnt_need_to_be_that_long_but_since_this_is_a_thesis_it_finally_is_going_to_be_this_long'"
      ],
      "metadata": {
        "id": "0UVUq2gEkK9F"
      },
      "execution_count": null,
      "outputs": []
    },
    {
      "cell_type": "code",
      "source": [
        "#isolate elevation column\n",
        "Y_true = np.array(radar_data_list_truth)\n",
        "print(Y_true.shape)\n",
        "Y_true_elev = Y_true [:,:,0] ##################################################\n",
        "print(Y_true_elev.shape)"
      ],
      "metadata": {
        "id": "KqJSy6oR4t7Y",
        "colab": {
          "base_uri": "https://localhost:8080/"
        },
        "outputId": "99eaabc0-1a3a-4149-9f3e-2bbd407589ba"
      },
      "execution_count": null,
      "outputs": [
        {
          "output_type": "stream",
          "name": "stdout",
          "text": [
            "(25, 75, 4)\n",
            "(25, 75)\n"
          ]
        }
      ]
    },
    {
      "cell_type": "code",
      "source": [
        "\n",
        "# #scale the testing data\n",
        "\n",
        "# #make a loop to add the scaling array to the trianing set\n",
        "# #after this the minimum value should be zero\n",
        "# Y_true_elevSL = []\n",
        "# for i in range(39):\n",
        "#   a = Y_true_elev[i]+scale_array\n",
        "#   Y_true_elevSL.append(a)\n",
        "\n",
        "# #to check the minimum value is 0 and not negative\n",
        "# print(np.amin(Y_true_elevSL))\n",
        "# #the above is a list so we must turn it into an array for training.\n",
        "# Y_true_elevS = np.array(Y_true_elevSL)\n",
        "# Y_true_elevS.shape\n",
        "\n",
        "# #our final training set is --- X_train_elev4 ---\n",
        "# #make sure that the testing data is also scaled up the similar way\n",
        "# #by adding the same scaling constant using the ---scale_array---\n",
        "\n",
        "Y_true_elevS = abs(Y_true_elev)\n",
        "Y_true_elevS.shape"
      ],
      "metadata": {
        "id": "-F-5QIDwkdLI",
        "colab": {
          "base_uri": "https://localhost:8080/"
        },
        "outputId": "4375f352-77da-43a2-9ccc-3437f73c1624"
      },
      "execution_count": null,
      "outputs": [
        {
          "output_type": "execute_result",
          "data": {
            "text/plain": [
              "(25, 75)"
            ]
          },
          "metadata": {},
          "execution_count": 55
        }
      ]
    },
    {
      "cell_type": "code",
      "source": [
        "#make predictions\n",
        "Y_pred = autoencoder.predict(Y_true_elevS)"
      ],
      "metadata": {
        "id": "1oNWvlH7kgzQ"
      },
      "execution_count": null,
      "outputs": []
    },
    {
      "cell_type": "code",
      "source": [
        "\n",
        "mse_pred = []\n",
        "for i in range(25):\n",
        "  mse = mean_squared_error(Y_true_elevS[i],Y_pred[i])\n",
        "  mse_pred.append(mse)"
      ],
      "metadata": {
        "id": "Hr65TgEXkrS7"
      },
      "execution_count": null,
      "outputs": []
    },
    {
      "cell_type": "code",
      "source": [
        "mse_pred = []\n",
        "for i in range(25):\n",
        "  mse = mean_squared_error(Y_true_elevS[i],Y_pred[i])\n",
        "  mse_pred.append(mse)"
      ],
      "metadata": {
        "id": "NmvYfWFDAXls"
      },
      "execution_count": null,
      "outputs": []
    },
    {
      "cell_type": "code",
      "source": [
        "mse_pred"
      ],
      "metadata": {
        "id": "oVotAi_YHPTq",
        "colab": {
          "base_uri": "https://localhost:8080/"
        },
        "outputId": "c9b776e2-058a-41df-d6fe-871e3ead95c8"
      },
      "execution_count": null,
      "outputs": [
        {
          "output_type": "execute_result",
          "data": {
            "text/plain": [
              "[0.24490343490647906,\n",
              " 0.2500962783823051,\n",
              " 0.2570236659722804,\n",
              " 0.39526157842492904,\n",
              " 0.987337642816664,\n",
              " 0.9874340790269537,\n",
              " 0.34048558654614053,\n",
              " 0.305389015792793,\n",
              " 0.406337774391572,\n",
              " 0.24970513190144195,\n",
              " 0.2556035855092642,\n",
              " 0.2510336885925659,\n",
              " 0.30353341936234224,\n",
              " 0.3130239750002687,\n",
              " 0.45655013851283777,\n",
              " 0.2978679903425893,\n",
              " 0.30649225642242717,\n",
              " 0.4155316542508795,\n",
              " 0.2585334502759715,\n",
              " 0.2969530190903104,\n",
              " 0.34048560239606296,\n",
              " 0.2525401085404123,\n",
              " 0.28633497757117976,\n",
              " 0.29468141973805684,\n",
              " 0.40321551766577274]"
            ]
          },
          "metadata": {},
          "execution_count": 59
        }
      ]
    },
    {
      "cell_type": "code",
      "source": [
        "sd=2\n",
        "threshold = statistics.mean(list_mse_clear) + sd*statistics.stdev(list_mse_clear)\n",
        "#threshold = 0.8\n",
        "#threshold = 0.8\n",
        "#print(threshold)"
      ],
      "metadata": {
        "id": "FYosohZEzaSs"
      },
      "execution_count": null,
      "outputs": []
    },
    {
      "cell_type": "code",
      "source": [
        "import matplotlib.patches as mpatches\n",
        "from matplotlib.lines import Line2D"
      ],
      "metadata": {
        "id": "YAj23Bf6zUHN"
      },
      "execution_count": null,
      "outputs": []
    },
    {
      "cell_type": "code",
      "source": [
        "x= range(25)\n",
        "y= mse_pred\n",
        "fig, ax = plt.subplots(figsize=(14, 7.5))\n",
        "barlist = plt.bar(x,y, width=0.5)\n",
        "barlist[0].set_color('m')\n",
        "barlist[1].set_color('m')\n",
        "barlist[2].set_color('m')\n",
        "barlist[3].set_color('y')\n",
        "barlist[4].set_color('y')\n",
        "barlist[5].set_color('y')\n",
        "barlist[6].set_color('y')\n",
        "#barlist[7].set_color('y')\n",
        "#barlist[8].set_color('y')\n",
        "plt.hlines(threshold,-1,27,color='red', linestyle='--')\n",
        "\n",
        "#Title and axes\n",
        "plt.suptitle('MSE Distribution on Test Set - CFZ2 - Radar', fontsize = 20)\n",
        "plt.title('Threshold = '+str(threshold)+'\\n'+'(mean mse + '+str(sd)+' standard deviation) calculated using separate obstacle free validation set')\n",
        "plt.xlabel('Samples', fontsize = 10)\n",
        "plt.ylabel('Reconstruction Error',fontsize = 10)\n",
        "plt.yticks(fontsize = 10)\n",
        "plt.xticks(range(27),fontsize = 10)\n",
        "\n",
        "#Legend\n",
        "handles, labels = plt.gca().get_legend_handles_labels()\n",
        "blue_patch = mpatches.Patch(color='tab:blue',label='No Obstacles')\n",
        "yellow_patch = mpatches.Patch(color='y',label='Obstacles')\n",
        "mag_patch = mpatches.Patch(color='magenta',label='Holding points and Desert Landscape')\n",
        "line = Line2D([0],[0], label='Threshold',color='r',linestyle='--')\n",
        "handles.extend([mag_patch, yellow_patch,blue_patch,line])\n",
        "plt.legend(handles=handles)\n",
        "\n",
        "plt.show()\n"
      ],
      "metadata": {
        "id": "x3rYEy6oGmCB",
        "colab": {
          "base_uri": "https://localhost:8080/",
          "height": 524
        },
        "outputId": "c26d029c-de0e-4389-fcb8-785f7e571cef"
      },
      "execution_count": null,
      "outputs": [
        {
          "output_type": "display_data",
          "data": {
            "text/plain": [
              "<Figure size 1008x540 with 1 Axes>"
            ],
            "image/png": "[encoded data removed]"
          },
          "metadata": {
            "needs_background": "light"
          }
        }
      ]
    },
    {
      "cell_type": "markdown",
      "source": [
        "#Confusion Matrix"
      ],
      "metadata": {
        "id": "KzlDIMQRD7GQ"
      }
    },
    {
      "cell_type": "code",
      "source": [
        ""
      ],
      "metadata": {
        "id": "Wu2LB9mDD_br"
      },
      "execution_count": null,
      "outputs": []
    },
    {
      "cell_type": "code",
      "source": [
        "pred_action_list = []\n",
        "for i in range(25):\n",
        "  if mse_pred[i] > threshold:\n",
        "    action = 'stop'\n",
        "  else:\n",
        "    action = 'go'\n",
        "  pred_action_list.append(action)\n",
        "pred_action_list"
      ],
      "metadata": {
        "id": "-8m95YVXFXWg",
        "colab": {
          "base_uri": "https://localhost:8080/"
        },
        "outputId": "2902084d-efed-4653-e9b8-4015afae348f"
      },
      "execution_count": null,
      "outputs": [
        {
          "output_type": "execute_result",
          "data": {
            "text/plain": [
              "['go',\n",
              " 'go',\n",
              " 'go',\n",
              " 'go',\n",
              " 'stop',\n",
              " 'stop',\n",
              " 'go',\n",
              " 'go',\n",
              " 'go',\n",
              " 'go',\n",
              " 'go',\n",
              " 'go',\n",
              " 'go',\n",
              " 'go',\n",
              " 'stop',\n",
              " 'go',\n",
              " 'go',\n",
              " 'go',\n",
              " 'go',\n",
              " 'go',\n",
              " 'go',\n",
              " 'go',\n",
              " 'go',\n",
              " 'go',\n",
              " 'go']"
            ]
          },
          "metadata": {},
          "execution_count": 63
        }
      ]
    },
    {
      "cell_type": "code",
      "source": [
        "true_action_list = []\n",
        "for k in range(25):\n",
        "    if (2<k<7):\n",
        "      action = 'stop'\n",
        "    else:\n",
        "      action = \"go\"\n",
        "    true_action_list.append(action)\n",
        "true_action_list"
      ],
      "metadata": {
        "id": "mN74MXfozg7z",
        "colab": {
          "base_uri": "https://localhost:8080/"
        },
        "outputId": "a3f4b01e-3319-4f26-bcd8-dc47e4888746"
      },
      "execution_count": null,
      "outputs": [
        {
          "output_type": "execute_result",
          "data": {
            "text/plain": [
              "['go',\n",
              " 'go',\n",
              " 'go',\n",
              " 'stop',\n",
              " 'stop',\n",
              " 'stop',\n",
              " 'stop',\n",
              " 'go',\n",
              " 'go',\n",
              " 'go',\n",
              " 'go',\n",
              " 'go',\n",
              " 'go',\n",
              " 'go',\n",
              " 'go',\n",
              " 'go',\n",
              " 'go',\n",
              " 'go',\n",
              " 'go',\n",
              " 'go',\n",
              " 'go',\n",
              " 'go',\n",
              " 'go',\n",
              " 'go',\n",
              " 'go']"
            ]
          },
          "metadata": {},
          "execution_count": 64
        }
      ]
    },
    {
      "cell_type": "code",
      "source": [
        "from sklearn.metrics import confusion_matrix\n",
        "import seaborn as sns\n",
        "from sklearn.metrics import plot_confusion_matrix"
      ],
      "metadata": {
        "id": "5-P9NcE7zl8h"
      },
      "execution_count": null,
      "outputs": []
    },
    {
      "cell_type": "code",
      "source": [
        "cm = confusion_matrix(true_action_list, pred_action_list)"
      ],
      "metadata": {
        "id": "WUUDH7rhzrNd"
      },
      "execution_count": null,
      "outputs": []
    },
    {
      "cell_type": "code",
      "source": [
        "fig, ax = plt.subplots(figsize=(7.5, 7.5))\n",
        "fx = sns.heatmap(cm, annot=True, cmap='Blues',cbar=False, annot_kws={'fontsize':50})\n",
        "\n",
        "# labels the title and x, y axis of plot\n",
        "plt.suptitle('Confusion Matrix - CFZ2 - Radar', fontsize = 20)\n",
        "plt.title('threshold = '+str(threshold)+'\\n'+'(mean mse + '+str(sd)+' standard deviation)')\n",
        "\n",
        "# fx.set_xlabel('Predicted Values', )\n",
        "plt.xlabel('Predicted Values', fontsize = 20)\n",
        "plt.ylabel('Actual Values ', fontsize = 20);\n",
        "\n",
        "# labels the boxes\n",
        "fx.xaxis.set_ticklabels(['Go','Stop'])\n",
        "fx.yaxis.set_ticklabels(['Go','Stop'])\n",
        "\n",
        "\n",
        "plt.show()"
      ],
      "metadata": {
        "colab": {
          "base_uri": "https://localhost:8080/",
          "height": 533
        },
        "id": "IIF0Z1lDzvtC",
        "outputId": "e861ebe8-7b1e-4467-a338-afea8767c606"
      },
      "execution_count": null,
      "outputs": [
        {
          "output_type": "display_data",
          "data": {
            "text/plain": [
              "<Figure size 540x540 with 1 Axes>"
            ],
            "image/png": "[encoded data removed]"
          },
          "metadata": {
            "needs_background": "light"
          }
        }
      ]
    },
    {
      "cell_type": "code",
      "source": [
        ""
      ],
      "metadata": {
        "id": "oIDXQL2RzpR8"
      },
      "execution_count": null,
      "outputs": []
    }
  ]
}