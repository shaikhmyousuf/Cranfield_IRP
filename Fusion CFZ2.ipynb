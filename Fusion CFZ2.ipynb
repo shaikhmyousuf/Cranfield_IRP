{
  "nbformat": 4,
  "nbformat_minor": 0,
  "metadata": {
    "colab": {
      "name": "HEALTH RISK 2 - Fusion.ipynb",
      "provenance": [],
      "authorship_tag": "ABX9TyNc87mKgpIjbu2vmMU/Z9VD",
      "include_colab_link": true
    },
    "kernelspec": {
      "name": "python3",
      "display_name": "Python 3"
    },
    "language_info": {
      "name": "python"
    }
  },
  "cells": [
    {
      "cell_type": "markdown",
      "metadata": {
        "id": "view-in-github",
        "colab_type": "text"
      },
      "source": [
        "<a href=\"https://colab.research.google.com/github/shaikhmyousuf/Cranfield_IRP/blob/main/Fusion%20CFZ2.ipynb\" target=\"_parent\"><img src=\"https://colab.research.google.com/assets/colab-badge.svg\" alt=\"Open In Colab\"/></a>"
      ]
    },
    {
      "cell_type": "code",
      "source": [
        "import numpy as np"
      ],
      "metadata": {
        "id": "VZYKA4sJV4Mk"
      },
      "execution_count": 1,
      "outputs": []
    },
    {
      "cell_type": "code",
      "source": [
        ""
      ],
      "metadata": {
        "id": "US_g8MZ5ZJgr"
      },
      "execution_count": 1,
      "outputs": []
    },
    {
      "cell_type": "markdown",
      "source": [
        "#Initialise MSE data"
      ],
      "metadata": {
        "id": "zQqkMrpAZKLO"
      }
    },
    {
      "cell_type": "code",
      "execution_count": 2,
      "metadata": {
        "id": "wwiPaJpyUCGy"
      },
      "outputs": [],
      "source": [
        "#----------RADAR----------------------------------------------------------------\n",
        "mse_RAD = [0.24490343490647906,\n",
        "           0.2500962783823051,\n",
        "           0.2570236659722804,\n",
        "           0.39526157842492904,\n",
        "           0.987337642816664,\n",
        "           0.9874340790269537,\n",
        "           0.34048558654614053,\n",
        "           0.305389015792793,\n",
        "           0.406337774391572,\n",
        "           0.24970513190144195,\n",
        "           0.2556035855092642,\n",
        "           0.2510336885925659,\n",
        "           0.30353341936234224,\n",
        "           0.3130239750002687,\n",
        "           0.45655013851283777,\n",
        "           0.2978679903425893,\n",
        "           0.30649225642242717,\n",
        "           0.4155316542508795,\n",
        "           0.2585334502759715,\n",
        "           0.2969530190903104,\n",
        "           0.34048560239606296,\n",
        "           0.2525401085404123,\n",
        "           0.28633497757117976,\n",
        "           0.29468141973805684,\n",
        "           0.40321551766577274]\n",
        "\n",
        "max_mse_RAD = 0.6517867447980759\n",
        "threshold_rad = 0.4395077532585708\n",
        "\n",
        "#----------RGB CAMERA-----------------------------------------------------------\n",
        "mse_RGB=[0.013616456254090414,\n",
        "         0.016719836249357273,\n",
        "         0.02313002485655174,\n",
        "         0.007761364796544504,\n",
        "         0.01180607201944064,\n",
        "         0.013408955548263839,\n",
        "         0.016525746521327316,\n",
        "         0.007521064453557312,\n",
        "         0.007422078615338621,\n",
        "         0.007658099188341045,\n",
        "         0.007634578029152772,\n",
        "         0.007641812216594634,\n",
        "         0.0076432277415384945,\n",
        "         0.007565688998530502,\n",
        "         0.0075129573225356,\n",
        "         0.007420941185006894,\n",
        "         0.007398428740811726,\n",
        "         0.007526532290711312,\n",
        "         0.007388792067404964,\n",
        "         0.007457408035967659,\n",
        "         0.007442698194730198,\n",
        "         0.0075441008337654315,\n",
        "         0.007551937440653449,\n",
        "         0.007604709936102709,\n",
        "         0.007530906257316021]\n",
        "\n",
        "max_mse_RGB = 0.012793092043838812\n",
        "threshold_rgb = 0.011557073446068588"
      ]
    },
    {
      "cell_type": "code",
      "source": [
        "mse_rad = np.asarray(mse_RAD)\n",
        "mse_rad /= max_mse_RAD\n",
        "threshold_rad /= max_mse_RAD \n",
        "\n",
        "mse_rgb = np.asarray(mse_RGB)\n",
        "mse_rgb /= max_mse_RGB\n",
        "threshold_rgb /= max_mse_RGB "
      ],
      "metadata": {
        "id": "gOhCf6IGWm0w"
      },
      "execution_count": 3,
      "outputs": []
    },
    {
      "cell_type": "markdown",
      "source": [
        "#Fusion of thresholds tested"
      ],
      "metadata": {
        "id": "ofak_jNNbAHd"
      }
    },
    {
      "cell_type": "code",
      "source": [
        "print(threshold_rad)\n",
        "print(threshold_rgb)"
      ],
      "metadata": {
        "colab": {
          "base_uri": "https://localhost:8080/"
        },
        "id": "8OizbxYdX84g",
        "outputId": "f6a1c4fc-f046-4a45-e241-fba1750be72a"
      },
      "execution_count": 4,
      "outputs": [
        {
          "output_type": "stream",
          "name": "stdout",
          "text": [
            "0.6743121991453366\n",
            "0.903383904881268\n"
          ]
        }
      ]
    },
    {
      "cell_type": "code",
      "source": [
        "weight_rgb = 0.4\n",
        "weight_rad = 0.6\n",
        "threshold_cfz = (weight_rgb*threshold_rgb) + (weight_rad*threshold_rad)\n",
        "print(threshold_cfz)"
      ],
      "metadata": {
        "colab": {
          "base_uri": "https://localhost:8080/"
        },
        "id": "NQTBYpmTYV23",
        "outputId": "44babc0e-d256-45ee-bf2e-36cb59d8261b"
      },
      "execution_count": 35,
      "outputs": [
        {
          "output_type": "stream",
          "name": "stdout",
          "text": [
            "0.7659408814397092\n"
          ]
        }
      ]
    },
    {
      "cell_type": "markdown",
      "source": [
        "#Fusion of MSEs"
      ],
      "metadata": {
        "id": "zMKUDnTZbviz"
      }
    },
    {
      "cell_type": "code",
      "source": [
        "mse_cfz = (mse_rgb*weight_rgb) + (mse_rad*weight_rad)\n",
        "mse_cfz"
      ],
      "metadata": {
        "colab": {
          "base_uri": "https://localhost:8080/"
        },
        "id": "OJfqobzRbvH5",
        "outputId": "27b66d6e-1562-43e0-849d-08c852034ecb"
      },
      "execution_count": 36,
      "outputs": [
        {
          "output_type": "execute_result",
          "data": {
            "text/plain": [
              "array([0.65118902, 0.75300227, 0.95980581, 0.60653028, 1.27802917,\n",
              "       1.3282351 , 0.83014125, 0.51628496, 0.60611801, 0.46931001,\n",
              "       0.47400437, 0.47002376, 0.51839646, 0.52470857, 0.65518232,\n",
              "       0.50623097, 0.51346611, 0.61784734, 0.46901649, 0.5065289 ,\n",
              "       0.54614273, 0.46835536, 0.49971014, 0.50904346, 0.60664653])"
            ]
          },
          "metadata": {},
          "execution_count": 36
        }
      ]
    },
    {
      "cell_type": "code",
      "source": [
        "mse_cfz.shape"
      ],
      "metadata": {
        "colab": {
          "base_uri": "https://localhost:8080/"
        },
        "id": "OjWE8i63cLSp",
        "outputId": "ffe29341-442e-4c32-d11b-a5edde5c9c70"
      },
      "execution_count": 37,
      "outputs": [
        {
          "output_type": "execute_result",
          "data": {
            "text/plain": [
              "(25,)"
            ]
          },
          "metadata": {},
          "execution_count": 37
        }
      ]
    },
    {
      "cell_type": "code",
      "source": [
        "import matplotlib.patches as mpatches\n",
        "from matplotlib.lines import Line2D\n",
        "import matplotlib.pyplot as plt"
      ],
      "metadata": {
        "id": "-qco7CIdcWxS"
      },
      "execution_count": 38,
      "outputs": []
    },
    {
      "cell_type": "code",
      "source": [
        "\n",
        "x= range(25)\n",
        "y= mse_cfz\n",
        "fig, ax = plt.subplots(figsize=(14, 7.5))\n",
        "barlist = plt.bar(x,y, width=0.5)\n",
        "barlist[0].set_color('m')\n",
        "barlist[1].set_color('m')\n",
        "barlist[2].set_color('m')\n",
        "barlist[3].set_color('y')\n",
        "barlist[4].set_color('y')\n",
        "barlist[5].set_color('y')\n",
        "barlist[6].set_color('y')\n",
        "# barlist[7].set_color('y')\n",
        "# barlist[8].set_color('y')\n",
        "plt.hlines(threshold_cfz,-1,27,color='red', linestyle='--')\n",
        "\n",
        "#Title and axes\n",
        "plt.suptitle('MSE Distribution on Test Set - CFZ2 - Fused', fontsize = 20)\n",
        "plt.title('Threshold = '+str(threshold_cfz)+'\\n'+'(Fused mse) calculated using separate obstacle free validation set')\n",
        "plt.xlabel('Samples', fontsize = 10)\n",
        "plt.ylabel('Reconstruction Error',fontsize = 10)\n",
        "plt.yticks(fontsize = 10)\n",
        "plt.xticks(range(25),fontsize = 10)\n",
        "\n",
        "#Legend\n",
        "handles, labels = plt.gca().get_legend_handles_labels()\n",
        "blue_patch = mpatches.Patch(color='tab:blue',label='No Obstacles')\n",
        "yellow_patch = mpatches.Patch(color='y',label='Obstacles')\n",
        "mag_patch = mpatches.Patch(color='magenta',label='Fog, Holding points and Desert Landscape')\n",
        "line = Line2D([0],[0], label='Threshold',color='r',linestyle='--')\n",
        "handles.extend([mag_patch, yellow_patch,blue_patch,line])\n",
        "plt.legend(handles=handles)\n",
        "\n",
        "plt.show()\n",
        "\n"
      ],
      "metadata": {
        "colab": {
          "base_uri": "https://localhost:8080/",
          "height": 467
        },
        "id": "KMZdU98JV3is",
        "outputId": "b3bb6a6f-f928-481d-fa1a-622422bd38e2"
      },
      "execution_count": 46,
      "outputs": [
        {
          "output_type": "display_data",
          "data": {
            "text/plain": [
              "<Figure size 1008x540 with 1 Axes>"
            ],
            "image/png": "[encoded data removed]"
          },
          "metadata": {
            "needs_background": "light"
          }
        }
      ]
    },
    {
      "cell_type": "code",
      "source": [
        "true_action_list = []\n",
        "for k in range(25):\n",
        "    if (2<k<7):\n",
        "      action = 'stop'\n",
        "    else:\n",
        "      action = \"go\"\n",
        "    true_action_list.append(action)\n",
        "true_action_list"
      ],
      "metadata": {
        "colab": {
          "base_uri": "https://localhost:8080/"
        },
        "id": "9ZMJ9V8ZWypU",
        "outputId": "40d9a40a-bcac-4306-bf4d-c915b1cbb287"
      },
      "execution_count": 40,
      "outputs": [
        {
          "output_type": "execute_result",
          "data": {
            "text/plain": [
              "['go',\n",
              " 'go',\n",
              " 'go',\n",
              " 'stop',\n",
              " 'stop',\n",
              " 'stop',\n",
              " 'stop',\n",
              " 'go',\n",
              " 'go',\n",
              " 'go',\n",
              " 'go',\n",
              " 'go',\n",
              " 'go',\n",
              " 'go',\n",
              " 'go',\n",
              " 'go',\n",
              " 'go',\n",
              " 'go',\n",
              " 'go',\n",
              " 'go',\n",
              " 'go',\n",
              " 'go',\n",
              " 'go',\n",
              " 'go',\n",
              " 'go']"
            ]
          },
          "metadata": {},
          "execution_count": 40
        }
      ]
    },
    {
      "cell_type": "code",
      "source": [
        "action_cfz = []\n",
        "for i in range(25):\n",
        "  if mse_cfz[i] > threshold_cfz:\n",
        "    action = 'stop'\n",
        "  else:\n",
        "    action = 'go'\n",
        "  action_cfz.append(action)\n",
        "action_cfz"
      ],
      "metadata": {
        "colab": {
          "base_uri": "https://localhost:8080/"
        },
        "id": "qa3iJVwWdDzS",
        "outputId": "9082813b-787a-43a6-e8f8-47559f89c339"
      },
      "execution_count": 41,
      "outputs": [
        {
          "output_type": "execute_result",
          "data": {
            "text/plain": [
              "['go',\n",
              " 'go',\n",
              " 'stop',\n",
              " 'go',\n",
              " 'stop',\n",
              " 'stop',\n",
              " 'stop',\n",
              " 'go',\n",
              " 'go',\n",
              " 'go',\n",
              " 'go',\n",
              " 'go',\n",
              " 'go',\n",
              " 'go',\n",
              " 'go',\n",
              " 'go',\n",
              " 'go',\n",
              " 'go',\n",
              " 'go',\n",
              " 'go',\n",
              " 'go',\n",
              " 'go',\n",
              " 'go',\n",
              " 'go',\n",
              " 'go']"
            ]
          },
          "metadata": {},
          "execution_count": 41
        }
      ]
    },
    {
      "cell_type": "code",
      "source": [
        "from sklearn.metrics import confusion_matrix\n",
        "import seaborn as sns\n",
        "from sklearn.metrics import plot_confusion_matrix"
      ],
      "metadata": {
        "id": "dZbc2tjNdUCE"
      },
      "execution_count": 42,
      "outputs": []
    },
    {
      "cell_type": "code",
      "source": [
        "cm = confusion_matrix(true_action_list, action_cfz)\n",
        "fig, ax = plt.subplots(figsize=(7.5, 7.5))\n",
        "fx = sns.heatmap(cm, annot=True, cmap='Blues',cbar=False, annot_kws={'fontsize':50})\n",
        "\n",
        "# labels the title and x, y axis of plot\n",
        "plt.suptitle('Confusion Matrix - CFZ2 - Fused', fontsize = 20)\n",
        "plt.title('threshold = '+str(threshold_cfz)+'\\n'+'(fused Thresholds)')\n",
        "\n",
        "# fx.set_xlabel('Predicted Values', )\n",
        "plt.xlabel('Predicted Values', fontsize = 20)\n",
        "plt.ylabel('Actual Values ', fontsize = 20);\n",
        "\n",
        "# labels the boxes\n",
        "fx.xaxis.set_ticklabels(['Go','Stop'])\n",
        "fx.yaxis.set_ticklabels(['Go','Stop'])\n",
        "\n",
        "\n",
        "plt.show()"
      ],
      "metadata": {
        "colab": {
          "base_uri": "https://localhost:8080/",
          "height": 533
        },
        "id": "VlBnrYCydcbh",
        "outputId": "b5745133-f38f-406a-dc58-378195c1a7c4"
      },
      "execution_count": 47,
      "outputs": [
        {
          "output_type": "display_data",
          "data": {
            "text/plain": [
              "<Figure size 540x540 with 1 Axes>"
            ],
            "image/png": "[encoded data removed]"
          },
          "metadata": {
            "needs_background": "light"
          }
        }
      ]
    },
    {
      "cell_type": "code",
      "source": [
        "cm"
      ],
      "metadata": {
        "id": "3vlXd2BndnYr",
        "colab": {
          "base_uri": "https://localhost:8080/"
        },
        "outputId": "f3b837e6-ee59-4582-b42b-c2f90ba002e3"
      },
      "execution_count": 48,
      "outputs": [
        {
          "output_type": "execute_result",
          "data": {
            "text/plain": [
              "array([[20,  1],\n",
              "       [ 1,  3]])"
            ]
          },
          "metadata": {},
          "execution_count": 48
        }
      ]
    },
    {
      "cell_type": "code",
      "source": [
        "accuracy = cm"
      ],
      "metadata": {
        "id": "DNmHGcvLvWxy"
      },
      "execution_count": null,
      "outputs": []
    }
  ]
}