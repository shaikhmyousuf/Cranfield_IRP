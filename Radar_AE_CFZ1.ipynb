{
  "nbformat": 4,
  "nbformat_minor": 0,
  "metadata": {
    "colab": {
      "name": "HEALTH RISK 1 - Radar AE NOSE ABS.ipynb",
      "provenance": [],
      "machine_shape": "hm",
      "authorship_tag": "ABX9TyMfhCAwZHRUyOZBEb3UYjvc",
      "include_colab_link": true
    },
    "kernelspec": {
      "name": "python3",
      "display_name": "Python 3"
    },
    "language_info": {
      "name": "python"
    },
    "accelerator": "GPU",
    "gpuClass": "standard"
  },
  "cells": [
    {
      "cell_type": "markdown",
      "metadata": {
        "id": "view-in-github",
        "colab_type": "text"
      },
      "source": [
        "<a href=\"https://colab.research.google.com/github/shaikhmyousuf/Cranfield_IRP/blob/main/Radar_AE_CFZ1.ipynb\" target=\"_parent\"><img src=\"https://colab.research.google.com/assets/colab-badge.svg\" alt=\"Open In Colab\"/></a>"
      ]
    },
    {
      "cell_type": "code",
      "source": [
        "import tensorflow as tf\n",
        "from tensorflow import keras\n",
        "import matplotlib.pyplot as plt\n",
        "import cv2\n",
        "import numpy as np\n",
        "import pandas as pd\n",
        "import os\n",
        "import matplotlib.pyplot as plt\n",
        "from keras.datasets import mnist\n",
        "from keras.layers import Input, Dense, Conv2D, MaxPooling2D, UpSampling2D, Conv2DTranspose\n",
        "from keras.models import Model\n",
        "from keras.preprocessing import image\n",
        "import statistics"
      ],
      "metadata": {
        "id": "w6Lh32tdxqS4"
      },
      "execution_count": null,
      "outputs": []
    },
    {
      "cell_type": "code",
      "source": [
        "from google.colab import drive\n",
        "drive.mount('/content/drive')"
      ],
      "metadata": {
        "colab": {
          "base_uri": "https://localhost:8080/"
        },
        "id": "Ig1CLnO_xt15",
        "outputId": "6c07b118-57c7-4194-cd2e-d1452d9bda64"
      },
      "execution_count": null,
      "outputs": [
        {
          "output_type": "stream",
          "name": "stdout",
          "text": [
            "Mounted at /content/drive\n"
          ]
        }
      ]
    },
    {
      "cell_type": "code",
      "execution_count": null,
      "metadata": {
        "id": "kMmlMUJN_erL"
      },
      "outputs": [],
      "source": [
        "#GET LIST OF FILES\n",
        "def getListOfFiles(dirName):\n",
        "    # create a list of file and sub directories \n",
        "    # names in the given directory \n",
        "    listOfFile = os.listdir(dirName)\n",
        "    allFiles = list()\n",
        "    # Iterate over all the entries\n",
        "    for entry in listOfFile:\n",
        "        # Create full path\n",
        "        fullPath = os.path.join(dirName, entry)\n",
        "        # If entry is a directory then get the list of files in this directory \n",
        "        if os.path.isdir(fullPath):\n",
        "            allFiles = allFiles + getListOfFiles(fullPath)\n",
        "        else:\n",
        "            allFiles.append(fullPath)               \n",
        "    \n",
        "    return allFiles\n",
        "\n",
        "#READ TEXT FILES\n",
        "def readFile(fileName):\n",
        "        fileObj = open(fileName, \"r\") #opens the file in read mode\n",
        "        words = fileObj.read().splitlines() #puts the file into an array\n",
        "        fileObj.close()\n",
        "        return words\n",
        "\n",
        "def readFile2array(fileName):\n",
        "        fileObj = open(fileName, \"r\") #opens the file in read mode\n",
        "        words = fileObj.read().splitlines() #puts the file into an array\n",
        "        fileObj.close()\n",
        "        da = np.array(words)\n",
        "        return da\n",
        "\n",
        "\n",
        "#TURN TEXT FILES TO 75*4 ARRAYS\n",
        "def text_to_array(data_array):\n",
        "  bus_array = np.zeros((75,4))\n",
        "  for i in range(len(data_array)-1):\n",
        "    x = np.asarray(data_array[i].split())\n",
        "    bus_array[i]=x\n",
        "  if bus_array.any()!=0:\n",
        "    loaded_bus = bus_array\n",
        "  return loaded_bus"
      ]
    },
    {
      "cell_type": "code",
      "source": [
        "list_of_files = getListOfFiles('/content/drive/MyDrive/irp/training_data/Train_Run_2/_out_rad_nose')"
      ],
      "metadata": {
        "id": "gsnqdbsVxbFp"
      },
      "execution_count": null,
      "outputs": []
    },
    {
      "cell_type": "code",
      "source": [
        "list_of_files[7]"
      ],
      "metadata": {
        "id": "9sF0-JKox8ek",
        "colab": {
          "base_uri": "https://localhost:8080/",
          "height": 35
        },
        "outputId": "3fff1543-a570-4596-e89f-e60ff8373bb9"
      },
      "execution_count": null,
      "outputs": [
        {
          "output_type": "execute_result",
          "data": {
            "text/plain": [
              "'/content/drive/MyDrive/irp/training_data/Train_Run_2/_out_rad_nose/143142.txt'"
            ],
            "application/vnd.google.colaboratory.intrinsic+json": {
              "type": "string"
            }
          },
          "metadata": {},
          "execution_count": 5
        }
      ]
    },
    {
      "cell_type": "code",
      "source": [
        "radar_data_list = []\n",
        "# for i in range(2):\n",
        "#   da = readFile2array(list_of_files[i])\n",
        "#   la = text_to_array(da)\n",
        "#   radar_data_list.append(la)\n",
        "\n",
        "\n",
        "for i in range(len(list_of_files)-1):\n",
        "  da = readFile2array(list_of_files[i])\n",
        "  la = text_to_array(da)\n",
        "  radar_data_list.append(la)"
      ],
      "metadata": {
        "id": "cLJcFrQVxdRl"
      },
      "execution_count": null,
      "outputs": []
    },
    {
      "cell_type": "code",
      "source": [
        "#radar_data_list"
      ],
      "metadata": {
        "id": "eXiJJB2QyjjN"
      },
      "execution_count": null,
      "outputs": []
    },
    {
      "cell_type": "code",
      "source": [
        "X_train = np.array(radar_data_list)\n",
        "X_train.shape\n",
        "X_train_elev = X_train [:,:,0]#################################################"
      ],
      "metadata": {
        "id": "69u5Z1oIxgc-"
      },
      "execution_count": null,
      "outputs": []
    },
    {
      "cell_type": "code",
      "source": [
        "X_train_elev[5].shape"
      ],
      "metadata": {
        "id": "y1jxpDcvy1qd",
        "colab": {
          "base_uri": "https://localhost:8080/"
        },
        "outputId": "b5636b35-cd1a-4c75-c84c-f98863407f78"
      },
      "execution_count": null,
      "outputs": [
        {
          "output_type": "execute_result",
          "data": {
            "text/plain": [
              "(75,)"
            ]
          },
          "metadata": {},
          "execution_count": 9
        }
      ]
    },
    {
      "cell_type": "code",
      "source": [
        "minElement = np.amin(X_train_elev)\n",
        "print('Minimum element from Numpy Array : ', minElement)\n",
        "\n",
        "# Get the indices of minimum element in numpy array\n",
        "result = np.where(X_train_elev == np.amin(X_train_elev))\n",
        "print('Returned tuple of arrays :', result)\n",
        "print('List of Indices of minimum element :', result[0])"
      ],
      "metadata": {
        "id": "C4lQSevKKWQg",
        "colab": {
          "base_uri": "https://localhost:8080/"
        },
        "outputId": "a9673b65-2fa3-4711-b8e5-dc93d36f4b28"
      },
      "execution_count": null,
      "outputs": [
        {
          "output_type": "stream",
          "name": "stdout",
          "text": [
            "Minimum element from Numpy Array :  -1133.2474365234375\n",
            "Returned tuple of arrays : (array([5000]), array([26]))\n",
            "List of Indices of minimum element : [5000]\n"
          ]
        }
      ]
    },
    {
      "cell_type": "code",
      "source": [
        "#X_train_elev[5000]\n",
        "X_train_elev[7]"
      ],
      "metadata": {
        "id": "Y0WtbpWuJxnA",
        "colab": {
          "base_uri": "https://localhost:8080/"
        },
        "outputId": "cc424abf-5753-42d2-c352-8512cb73694e"
      },
      "execution_count": null,
      "outputs": [
        {
          "output_type": "execute_result",
          "data": {
            "text/plain": [
              "array([-1.99623621, -1.88950634, -1.98307049, -1.89865613, -1.99774873,\n",
              "       -1.90227997, -1.99362481, -1.98995399, -1.99500501, -1.97721612,\n",
              "       -1.90602601, -1.89648294, -1.89973676, -1.9817282 , -1.99649656,\n",
              "       -1.99898338, -1.91234767, -1.99612868, -1.99846292, -1.97746444,\n",
              "       -1.98940516, -1.99803376, -1.92440164, -1.96928167, -1.99748528,\n",
              "       -1.99880457, -1.9058975 , -1.98303735, -1.93972683, -1.98880887,\n",
              "       -1.99265969, -1.96842682, -1.951298  , -1.90788066, -1.92258513,\n",
              "       -1.87666011, -1.9889673 , -1.99488294, -1.92732084, -1.99657285,\n",
              "       -1.97408712, -1.95335197, -1.99570847, -1.99031663, -1.93203259,\n",
              "       -1.95273447, -1.92654014, -1.92162645, -1.90288949,  0.        ,\n",
              "        0.        ,  0.        ,  0.        ,  0.        ,  0.        ,\n",
              "        0.        ,  0.        ,  0.        ,  0.        ,  0.        ,\n",
              "        0.        ,  0.        ,  0.        ,  0.        ,  0.        ,\n",
              "        0.        ,  0.        ,  0.        ,  0.        ,  0.        ,\n",
              "        0.        ,  0.        ,  0.        ,  0.        ,  0.        ])"
            ]
          },
          "metadata": {},
          "execution_count": 11
        }
      ]
    },
    {
      "cell_type": "code",
      "source": [
        "\n",
        "mean = np.mean(X_train_elev[0])\n"
      ],
      "metadata": {
        "id": "3opsY2BiMHq-"
      },
      "execution_count": null,
      "outputs": []
    },
    {
      "cell_type": "code",
      "source": [
        ""
      ],
      "metadata": {
        "id": "rPE0nvdqRd2i"
      },
      "execution_count": null,
      "outputs": []
    },
    {
      "cell_type": "code",
      "source": [
        "X_train_elev1 = np.delete(X_train_elev,5000, axis=0)"
      ],
      "metadata": {
        "id": "ZgfUUDzCRwR0"
      },
      "execution_count": null,
      "outputs": []
    },
    {
      "cell_type": "code",
      "source": [
        "X_train_elev1.shape"
      ],
      "metadata": {
        "id": "KjUCDDLYR80B",
        "colab": {
          "base_uri": "https://localhost:8080/"
        },
        "outputId": "cc13d16d-df12-4b73-be17-0f631dbf2916"
      },
      "execution_count": null,
      "outputs": [
        {
          "output_type": "execute_result",
          "data": {
            "text/plain": [
              "(5873, 75)"
            ]
          },
          "metadata": {},
          "execution_count": 14
        }
      ]
    },
    {
      "cell_type": "code",
      "source": [
        "meanlist = []\n",
        "for i in range(5872):\n",
        "  m = np.mean(X_train_elev1[i])\n",
        "  meanlist.append(m)\n"
      ],
      "metadata": {
        "id": "4hJhFXKfMkkp"
      },
      "execution_count": null,
      "outputs": []
    },
    {
      "cell_type": "code",
      "source": [
        "corrupt_data = []\n",
        "for i in range(5872):\n",
        "  if meanlist[i] == 0:\n",
        "    corrupt_data.append(i)\n",
        "print(corrupt_data)\n",
        "print(len(corrupt_data))"
      ],
      "metadata": {
        "id": "wg0t1BCIOfDo",
        "colab": {
          "base_uri": "https://localhost:8080/"
        },
        "outputId": "730c4b03-3a56-45bd-8a9f-f26dabf99115"
      },
      "execution_count": null,
      "outputs": [
        {
          "output_type": "stream",
          "name": "stdout",
          "text": [
            "[1, 8, 19, 22, 31, 41, 45, 49, 59, 75, 81, 87, 90, 93, 97, 99, 109, 119, 129, 158, 167, 169, 177, 179, 181, 185, 191, 213, 218, 224, 226, 231, 239, 244, 247, 256, 259, 261, 267, 269, 271, 273, 278, 281, 283, 285, 287, 293, 295, 299, 308, 317, 319, 328, 337, 339, 346, 353, 358, 360, 368, 378, 383, 395, 397, 399, 405, 414, 420, 425, 427, 449, 457, 459, 465, 469, 474, 480, 483, 486, 489, 498, 505, 509, 528, 530, 541, 543, 554, 556, 573, 575, 578, 587, 589, 591, 593, 600, 615, 617, 623, 647, 655, 666, 670, 684, 686, 693, 696, 714, 719, 722, 741, 754, 757, 759, 768, 776, 781, 796, 800, 806, 811, 818, 835, 837, 845, 848, 864, 875, 880, 887, 889, 906, 915, 924, 930, 932, 934, 940, 952, 963, 971, 980, 983, 985, 988, 993, 998, 1003, 1006, 1011, 1018, 1021, 1024, 1030, 1032, 1036, 1040, 1042, 1048, 1054, 1062, 1066, 1071, 1073, 1076, 1079, 1085, 1096, 1102, 1107, 1123, 1134, 1143, 1148, 1150, 1169, 1174, 1176, 1182, 1190, 1197, 1201, 1217, 1241, 1245, 1265, 1267, 1274, 1278, 1281, 1286, 1297, 1304, 1316, 1324, 1327, 1331, 1343, 1348, 1354, 1358, 1366, 1370, 1373, 1380, 1382, 1384, 1386, 1407, 1409, 1414, 1425, 1430, 1437, 1439, 1441, 1446, 1450, 1455, 1457, 1468, 1470, 1475, 1481, 1498, 1500, 1502, 1517, 1523, 1534, 1541, 1543, 1549, 1556, 1561, 1565, 1572, 1585, 1591, 1596, 1604, 1606, 1623, 1627, 1633, 1637, 1641, 1655, 1658, 1662, 1682, 1684, 1686, 1700, 1702, 1706, 1708, 1710, 1713, 1715, 1718, 1720, 1726, 1730, 1732, 1737, 1739, 1742, 1749, 1751, 1754, 1757, 1762, 1767, 1769, 1771, 1776, 1791, 1795, 1800, 1802, 1804, 1824, 1834, 1843, 1849, 1851, 1864, 1878, 1883, 1888, 1891, 1897, 1899, 1905, 1913, 1925, 1930, 1932, 1942, 1952, 1954, 1959, 1963, 1978, 1988, 1999, 2005, 2020, 2047, 2064, 2069, 2072, 2082, 2091, 2102, 2107, 2125, 2129, 2135, 2147, 2150, 2158, 2178, 2183, 2192, 2199, 2202, 2214, 2256, 2263, 2280, 2286, 2292, 2296, 2300, 2305, 2310, 2313, 2324, 2330, 2346, 2360, 2366, 2419, 2426, 2434, 2436, 2442, 2456, 2458, 2460, 2462, 2465, 2468, 2472, 2474, 2478, 2484, 2486, 2489, 2493, 2499, 2501, 2506, 2508, 2515, 2526, 2532, 2534, 2536, 2543, 2546, 2548, 2550, 2565, 2575, 2583, 2588, 2592, 2596, 2599, 2602, 2606, 2608, 2610, 2614, 2622, 2628, 2634, 2647, 2650, 2662, 2668, 2693, 2701, 2717, 2722, 2727, 2741, 2754, 2756, 2760, 2770, 2773, 2785, 2790, 2798, 2805, 2818, 2820, 2822, 2835, 2861, 2868, 2876, 2878, 2886, 2906, 2909, 2917, 2924, 2927, 2931, 2946, 2948, 2950, 2952, 2955, 2962, 2965, 2969, 2972, 2983, 2989, 2999, 3004, 3009, 3011, 3015, 3019, 3023, 3030, 3039, 3042, 3048, 3051, 3056, 3059, 3064, 3067, 3073, 3075, 3084, 3091, 3093, 3095, 3097, 3103, 3109, 3111, 3113, 3119, 3121, 3124, 3126, 3140, 3142, 3151, 3157, 3168, 3173, 3191, 3193, 3195, 3197, 3201, 3211, 3243, 3249, 3251, 3256, 3267, 3269, 3271, 3286, 3294, 3306, 3310, 3318, 3331, 3334, 3343, 3347, 3349, 3357, 3361, 3363, 3384, 3386, 3393, 3395, 3399, 3443, 3445, 3447, 3449, 3453, 3462, 3488, 3492, 3522, 3527, 3531, 3536, 3540, 3542, 3544, 3547, 3556, 3558, 3561, 3567, 3573, 3578, 3583, 3585, 3590, 3592, 3597, 3601, 3603, 3605, 3636, 3641, 3644, 3646, 3669, 3676, 3680, 3687, 3696, 3699, 3701, 3707, 3717, 3733, 3738, 3743, 3748, 3752, 3754, 3763, 3773, 3777, 3795, 3802, 3805, 3807, 3813, 3819, 3838, 3841, 3846, 3848, 3855, 3857, 3859, 3873, 3875, 3886, 3894, 3900, 3905, 3911, 3918, 3922, 3926, 3928, 3932, 3956, 3964, 3971, 3979, 3986, 3993, 3995, 3998, 4015, 4029, 4031, 4033, 4045, 4055, 4069, 4076, 4081, 4085, 4088, 4090, 4092, 4094, 4096, 4098, 4100, 4102, 4107, 4125, 4132, 4134, 4141, 4145, 4158, 4163, 4168, 4175, 4181, 4184, 4192, 4195, 4204, 4222, 4232, 4237, 4246, 4248, 4256, 4258, 4260, 4265, 4269, 4271, 4275, 4285, 4292, 4295, 4309, 4311, 4315, 4330, 4333, 4343, 4353, 4364, 4367, 4370, 4405, 4408, 4410, 4419, 4422, 4435, 4437, 4441, 4449, 4481, 4487, 4494, 4497, 4518, 4529, 4539, 4541, 4543, 4545, 4547, 4551, 4568, 4573, 4581, 4586, 4592, 4600, 4602, 4609, 4617, 4631, 4633, 4641, 4643, 4652, 4660, 4663, 4667, 4669, 4685, 4710, 4712, 4715, 4717, 4719, 4722, 4732, 4734, 4738, 4740, 4744, 4746, 4748, 4751, 4754, 4756, 4758, 4764, 4770, 4780, 4799, 4801, 4804, 4806, 4808, 4836, 4840, 4854, 4867, 4871, 4876, 4880, 4882, 4885, 4888, 4890, 4892, 4894, 4896, 4900, 4907, 4910, 4914, 4920, 4929, 4935, 4952, 4960, 4966, 4995, 5007, 5014, 5018, 5026, 5040, 5058, 5061, 5067, 5069, 5074, 5087, 5089, 5091, 5094, 5104, 5117, 5123, 5126, 5131, 5134, 5139, 5148, 5162, 5181, 5184, 5186, 5189, 5193, 5203, 5205, 5211, 5220, 5232, 5243, 5246, 5249, 5251, 5263, 5271, 5273, 5278, 5298, 5306, 5324, 5326, 5335, 5341, 5344, 5347, 5353, 5359, 5363, 5369, 5377, 5392, 5395, 5406, 5410, 5423, 5428, 5435, 5439, 5445, 5447, 5477, 5481, 5488, 5491, 5497, 5499, 5513, 5521, 5525, 5531, 5533, 5535, 5541, 5566, 5570, 5572, 5576, 5583, 5585, 5595, 5597, 5605, 5609, 5611, 5616, 5618, 5631, 5633, 5635, 5637, 5652, 5668, 5672, 5679, 5684, 5693, 5695, 5697, 5699, 5711, 5713, 5717, 5727, 5729, 5731, 5742, 5749, 5760, 5762, 5765, 5774, 5777, 5782, 5786, 5789, 5792, 5804, 5807, 5813, 5818, 5823, 5826, 5828, 5830, 5840, 5844, 5859, 5861, 5869, 5871]\n",
            "872\n"
          ]
        }
      ]
    },
    {
      "cell_type": "code",
      "source": [
        "CDR = sorted(corrupt_data,reverse=True)"
      ],
      "metadata": {
        "id": "JYSPQx44VxdO"
      },
      "execution_count": null,
      "outputs": []
    },
    {
      "cell_type": "code",
      "source": [
        "CDR[0]"
      ],
      "metadata": {
        "id": "EWrICuDaV-R6",
        "colab": {
          "base_uri": "https://localhost:8080/"
        },
        "outputId": "67dad4e5-0e28-4f70-fa52-7c3979a204d4"
      },
      "execution_count": null,
      "outputs": [
        {
          "output_type": "execute_result",
          "data": {
            "text/plain": [
              "5871"
            ]
          },
          "metadata": {},
          "execution_count": 18
        }
      ]
    },
    {
      "cell_type": "code",
      "source": [
        "X_train_elev2 = X_train_elev1\n",
        "for i in CDR:\n",
        "  X_train_elev2 = np.delete(X_train_elev2,i,axis=0)\n"
      ],
      "metadata": {
        "id": "DDoFqzj5SNTC"
      },
      "execution_count": null,
      "outputs": []
    },
    {
      "cell_type": "code",
      "source": [
        "X_train_elev2 = np.delete(X_train_elev2,8,axis=0)"
      ],
      "metadata": {
        "id": "FXZGTF2KUKFV"
      },
      "execution_count": null,
      "outputs": []
    },
    {
      "cell_type": "code",
      "source": [
        "X_train_elev2.shape"
      ],
      "metadata": {
        "id": "fsc-8_qcUjpN",
        "colab": {
          "base_uri": "https://localhost:8080/"
        },
        "outputId": "8b08a4a8-ece7-4f8b-b397-960e1dffc52a"
      },
      "execution_count": null,
      "outputs": [
        {
          "output_type": "execute_result",
          "data": {
            "text/plain": [
              "(5000, 75)"
            ]
          },
          "metadata": {},
          "execution_count": 21
        }
      ]
    },
    {
      "cell_type": "code",
      "source": [
        ""
      ],
      "metadata": {
        "id": "m6PWOKfnTL96"
      },
      "execution_count": null,
      "outputs": []
    },
    {
      "cell_type": "code",
      "source": [
        "meanlist\n",
        "index = meanlist.index(0)\n",
        "print(index)\n"
      ],
      "metadata": {
        "id": "NnSodpGjNNGg",
        "colab": {
          "base_uri": "https://localhost:8080/"
        },
        "outputId": "b5befa8a-796a-4a97-f6ed-128030529a0b"
      },
      "execution_count": null,
      "outputs": [
        {
          "output_type": "stream",
          "name": "stdout",
          "text": [
            "1\n"
          ]
        }
      ]
    },
    {
      "cell_type": "code",
      "source": [
        "meanlist_elev2 = []\n",
        "for i in range(5000):\n",
        "  m = np.mean(X_train_elev2[i])\n",
        "  meanlist_elev2.append(m)"
      ],
      "metadata": {
        "id": "eRs9R4k_XXFv"
      },
      "execution_count": null,
      "outputs": []
    },
    {
      "cell_type": "code",
      "source": [
        "x= range(5000)\n",
        "y= meanlist_elev2\n",
        "plt.plot(x,y)\n",
        "plt.show()\n",
        "##########YES!"
      ],
      "metadata": {
        "id": "ltrKFGk1NCh8",
        "colab": {
          "base_uri": "https://localhost:8080/",
          "height": 265
        },
        "outputId": "c8c9ee87-fd49-4f6a-9908-fb1e5ca515f5"
      },
      "execution_count": null,
      "outputs": [
        {
          "output_type": "display_data",
          "data": {
            "text/plain": [
              "<Figure size 432x288 with 1 Axes>"
            ],
            "image/png": "[encoded data removed]"
          },
          "metadata": {
            "needs_background": "light"
          }
        }
      ]
    },
    {
      "cell_type": "code",
      "source": [
        "#minimum value of the training array\n",
        "print(np.amin(X_train_elev2))\n",
        "#next step is to add mimimum value to all values of the arrays."
      ],
      "metadata": {
        "id": "7k16jvzk3iaK",
        "colab": {
          "base_uri": "https://localhost:8080/"
        },
        "outputId": "c54508a8-4bc5-4791-e799-8edfee21aab8"
      },
      "execution_count": null,
      "outputs": [
        {
          "output_type": "stream",
          "name": "stdout",
          "text": [
            "-2.0001628398895264\n"
          ]
        }
      ]
    },
    {
      "cell_type": "code",
      "source": [
        "#make a new training array\n",
        "X_train_elev3 = X_train_elev2"
      ],
      "metadata": {
        "id": "XdzfwTkh53vO"
      },
      "execution_count": null,
      "outputs": []
    },
    {
      "cell_type": "code",
      "source": [
        "#make an array that you add to the 5001 arrays in the training set \n",
        "#scale_array = np.full((75,),abs(np.amin(X_train_elev2)))\n",
        "scale_array = np.full((75,),4) ################################################"
      ],
      "metadata": {
        "id": "JpZ7lfXp5-po"
      },
      "execution_count": null,
      "outputs": []
    },
    {
      "cell_type": "code",
      "source": [
        "# #make a loop to add the scaling array to the trianing set\n",
        "# #after this the minimum value should be zero\n",
        "# X_train_elev4L = []\n",
        "# for i in range(5001):\n",
        "#   a = X_train_elev3[i]+scale_array\n",
        "#   X_train_elev4L.append(a)\n",
        "\n",
        "# #to check the minimum value is 0 and not negative\n",
        "# print(np.amin(X_train_elev4L))\n",
        "# #the above is a list so we must turn it into an array for training.\n",
        "# X_train_elev4 = np.array(X_train_elev4L)\n",
        "# X_train_elev4.shape\n",
        "\n",
        "# #our final training set is --- X_train_elev4 ---\n",
        "# #make sure that the testing data is also scaled up the similar way\n",
        "# #by adding the same scaling constant using the ---scale_array---\n",
        "X_train_elev4 = abs(X_train_elev2)"
      ],
      "metadata": {
        "id": "cNWGUng76ypV"
      },
      "execution_count": null,
      "outputs": []
    },
    {
      "cell_type": "code",
      "source": [
        "print(np.amax(X_train_elev4))\n",
        "print(np.amin(X_train_elev4))\n"
      ],
      "metadata": {
        "id": "LosNDFwo8F87",
        "colab": {
          "base_uri": "https://localhost:8080/"
        },
        "outputId": "5d6de325-1055-4516-fe76-0fab6c5a5076"
      },
      "execution_count": null,
      "outputs": [
        {
          "output_type": "stream",
          "name": "stdout",
          "text": [
            "2.0001628398895264\n",
            "0.0\n"
          ]
        }
      ]
    },
    {
      "cell_type": "code",
      "source": [
        "encoder_input = keras.Input(shape=(75,), name='img')\n",
        "#x = keras.layers.Flatten()(encoder_input) #300\n",
        "x = keras.layers.Dense(64, activation = 'relu')(encoder_input)\n",
        "encoder_output = keras.layers.Dense(32, activation=\"relu\")(x)\n",
        "\n",
        "#encoder = keras.Model(encoder_input, encoder_output, name='encoder')\n",
        "\n",
        "decoder_input = keras.layers.Dense(64, activation=\"relu\")(encoder_output)\n",
        "#x = keras.layers.Dense(75, activation = 'relu')(decoder_input)\n",
        "#x = keras.layers.Dense(784, activation=\"relu\")(decoder_input)\n",
        "decoder_output = keras.layers.Dense(75, activation=\"relu\")(decoder_input)\n",
        "#decoder_output = keras.layers.Reshape((75,))(x)\n",
        "\n",
        "opt = tf.keras.optimizers.Adam(lr=0.001, decay=1e-6)\n",
        "\n",
        "autoencoder = keras.Model(encoder_input, decoder_output, name='autoencoder')\n",
        "autoencoder.summary()\n",
        "\n",
        "autoencoder.compile(opt, loss='mse')"
      ],
      "metadata": {
        "id": "KpHs3A_Yz5pH",
        "colab": {
          "base_uri": "https://localhost:8080/"
        },
        "outputId": "415e03ff-9b0b-4c0d-ec7a-ae7652e19f23"
      },
      "execution_count": null,
      "outputs": [
        {
          "output_type": "stream",
          "name": "stdout",
          "text": [
            "Model: \"autoencoder\"\n",
            "_________________________________________________________________\n",
            " Layer (type)                Output Shape              Param #   \n",
            "=================================================================\n",
            " img (InputLayer)            [(None, 75)]              0         \n",
            "                                                                 \n",
            " dense (Dense)               (None, 64)                4864      \n",
            "                                                                 \n",
            " dense_1 (Dense)             (None, 32)                2080      \n",
            "                                                                 \n",
            " dense_2 (Dense)             (None, 64)                2112      \n",
            "                                                                 \n",
            " dense_3 (Dense)             (None, 75)                4875      \n",
            "                                                                 \n",
            "=================================================================\n",
            "Total params: 13,931\n",
            "Trainable params: 13,931\n",
            "Non-trainable params: 0\n",
            "_________________________________________________________________\n"
          ]
        },
        {
          "output_type": "stream",
          "name": "stderr",
          "text": [
            "/usr/local/lib/python3.7/dist-packages/keras/optimizer_v2/adam.py:105: UserWarning: The `lr` argument is deprecated, use `learning_rate` instead.\n",
            "  super(Adam, self).__init__(name, **kwargs)\n"
          ]
        }
      ]
    },
    {
      "cell_type": "code",
      "source": [
        "history = autoencoder.fit(X_train_elev4[0:4500],X_train_elev4[0:4500], epochs=40, batch_size=32, validation_split=0.1) #x,y are x,x because youre mapping x to x"
      ],
      "metadata": {
        "id": "NOZP34mz0exb",
        "colab": {
          "base_uri": "https://localhost:8080/"
        },
        "outputId": "d41ad307-0648-4c81-e34c-f1eaceafc3c3"
      },
      "execution_count": null,
      "outputs": [
        {
          "output_type": "stream",
          "name": "stdout",
          "text": [
            "Epoch 1/40\n",
            "127/127 [==============================] - 3s 3ms/step - loss: 0.9567 - val_loss: 0.8226\n",
            "Epoch 2/40\n",
            "127/127 [==============================] - 0s 2ms/step - loss: 0.8053 - val_loss: 0.8065\n",
            "Epoch 3/40\n",
            "127/127 [==============================] - 0s 2ms/step - loss: 0.7480 - val_loss: 0.7064\n",
            "Epoch 4/40\n",
            "127/127 [==============================] - 0s 2ms/step - loss: 0.6920 - val_loss: 0.6967\n",
            "Epoch 5/40\n",
            "127/127 [==============================] - 0s 2ms/step - loss: 0.6893 - val_loss: 0.6953\n",
            "Epoch 6/40\n",
            "127/127 [==============================] - 0s 2ms/step - loss: 0.6421 - val_loss: 0.6433\n",
            "Epoch 7/40\n",
            "127/127 [==============================] - 0s 2ms/step - loss: 0.6366 - val_loss: 0.6429\n",
            "Epoch 8/40\n",
            "127/127 [==============================] - 0s 2ms/step - loss: 0.6362 - val_loss: 0.6426\n",
            "Epoch 9/40\n",
            "127/127 [==============================] - 0s 2ms/step - loss: 0.6360 - val_loss: 0.6425\n",
            "Epoch 10/40\n",
            "127/127 [==============================] - 0s 2ms/step - loss: 0.6358 - val_loss: 0.6422\n",
            "Epoch 11/40\n",
            "127/127 [==============================] - 0s 2ms/step - loss: 0.5106 - val_loss: 0.4548\n",
            "Epoch 12/40\n",
            "127/127 [==============================] - 0s 2ms/step - loss: 0.4460 - val_loss: 0.4152\n",
            "Epoch 13/40\n",
            "127/127 [==============================] - 0s 2ms/step - loss: 0.3969 - val_loss: 0.4013\n",
            "Epoch 14/40\n",
            "127/127 [==============================] - 0s 2ms/step - loss: 0.3950 - val_loss: 0.4007\n",
            "Epoch 15/40\n",
            "127/127 [==============================] - 0s 2ms/step - loss: 0.3945 - val_loss: 0.4004\n",
            "Epoch 16/40\n",
            "127/127 [==============================] - 0s 2ms/step - loss: 0.3942 - val_loss: 0.4002\n",
            "Epoch 17/40\n",
            "127/127 [==============================] - 0s 2ms/step - loss: 0.3941 - val_loss: 0.4000\n",
            "Epoch 18/40\n",
            "127/127 [==============================] - 0s 2ms/step - loss: 0.3939 - val_loss: 0.3999\n",
            "Epoch 19/40\n",
            "127/127 [==============================] - 0s 2ms/step - loss: 0.3938 - val_loss: 0.3998\n",
            "Epoch 20/40\n",
            "127/127 [==============================] - 0s 2ms/step - loss: 0.3938 - val_loss: 0.3998\n",
            "Epoch 21/40\n",
            "127/127 [==============================] - 0s 2ms/step - loss: 0.3937 - val_loss: 0.3998\n",
            "Epoch 22/40\n",
            "127/127 [==============================] - 0s 2ms/step - loss: 0.3937 - val_loss: 0.3997\n",
            "Epoch 23/40\n",
            "127/127 [==============================] - 0s 2ms/step - loss: 0.3936 - val_loss: 0.3997\n",
            "Epoch 24/40\n",
            "127/127 [==============================] - 0s 2ms/step - loss: 0.3936 - val_loss: 0.3996\n",
            "Epoch 25/40\n",
            "127/127 [==============================] - 0s 2ms/step - loss: 0.3936 - val_loss: 0.3996\n",
            "Epoch 26/40\n",
            "127/127 [==============================] - 0s 2ms/step - loss: 0.3936 - val_loss: 0.3996\n",
            "Epoch 27/40\n",
            "127/127 [==============================] - 0s 2ms/step - loss: 0.3936 - val_loss: 0.3996\n",
            "Epoch 28/40\n",
            "127/127 [==============================] - 0s 2ms/step - loss: 0.3935 - val_loss: 0.3996\n",
            "Epoch 29/40\n",
            "127/127 [==============================] - 0s 2ms/step - loss: 0.3935 - val_loss: 0.3996\n",
            "Epoch 30/40\n",
            "127/127 [==============================] - 0s 2ms/step - loss: 0.3935 - val_loss: 0.3995\n",
            "Epoch 31/40\n",
            "127/127 [==============================] - 0s 2ms/step - loss: 0.3935 - val_loss: 0.3996\n",
            "Epoch 32/40\n",
            "127/127 [==============================] - 0s 2ms/step - loss: 0.3935 - val_loss: 0.3996\n",
            "Epoch 33/40\n",
            "127/127 [==============================] - 0s 2ms/step - loss: 0.3935 - val_loss: 0.3995\n",
            "Epoch 34/40\n",
            "127/127 [==============================] - 0s 2ms/step - loss: 0.3935 - val_loss: 0.3995\n",
            "Epoch 35/40\n",
            "127/127 [==============================] - 0s 2ms/step - loss: 0.3935 - val_loss: 0.3995\n",
            "Epoch 36/40\n",
            "127/127 [==============================] - 0s 2ms/step - loss: 0.3935 - val_loss: 0.3995\n",
            "Epoch 37/40\n",
            "127/127 [==============================] - 0s 2ms/step - loss: 0.3935 - val_loss: 0.3995\n",
            "Epoch 38/40\n",
            "127/127 [==============================] - 0s 2ms/step - loss: 0.3935 - val_loss: 0.3995\n",
            "Epoch 39/40\n",
            "127/127 [==============================] - 0s 2ms/step - loss: 0.3935 - val_loss: 0.3995\n",
            "Epoch 40/40\n",
            "127/127 [==============================] - 0s 2ms/step - loss: 0.3935 - val_loss: 0.3995\n"
          ]
        }
      ]
    },
    {
      "cell_type": "code",
      "source": [
        "plt.plot(history.history['loss'])\n",
        "plt.plot(history.history['val_loss'])\n",
        "plt.title('model loss - CFZ1 - Radar')\n",
        "plt.ylabel('loss')\n",
        "plt.xlabel('epoch')\n",
        "plt.legend(['training', 'validation'], loc='best')\n",
        "plt.show()"
      ],
      "metadata": {
        "id": "URhKw1h_-afT",
        "colab": {
          "base_uri": "https://localhost:8080/",
          "height": 295
        },
        "outputId": "fc47df49-7b9f-4aac-b661-835446010e28"
      },
      "execution_count": null,
      "outputs": [
        {
          "output_type": "display_data",
          "data": {
            "text/plain": [
              "<Figure size 432x288 with 1 Axes>"
            ],
            "image/png": "[encoded data removed]"
          },
          "metadata": {
            "needs_background": "light"
          }
        }
      ]
    },
    {
      "cell_type": "code",
      "source": [
        "#now make the validation set using the training set\n",
        "#then run the predictions on the validation set\n",
        "val_set = X_train_elev4[4501:5001]\n",
        "predictions_val_set = autoencoder.predict(val_set)\n",
        "\n",
        "#becasue we use portion of the training set to make the validation set, we dont have to scale it"
      ],
      "metadata": {
        "id": "B9Nx1XuC1hbQ"
      },
      "execution_count": null,
      "outputs": []
    },
    {
      "cell_type": "code",
      "source": [
        "print(np.amin(X_train_elev4))"
      ],
      "metadata": {
        "id": "iAHiyETiKHYL",
        "colab": {
          "base_uri": "https://localhost:8080/"
        },
        "outputId": "14dfb3a5-cc0b-4c74-cb52-83df362d035e"
      },
      "execution_count": null,
      "outputs": [
        {
          "output_type": "stream",
          "name": "stdout",
          "text": [
            "0.0\n"
          ]
        }
      ]
    },
    {
      "cell_type": "code",
      "source": [
        "print(np.amin(predictions_val_set))"
      ],
      "metadata": {
        "id": "zG6imfbb1zvf",
        "colab": {
          "base_uri": "https://localhost:8080/"
        },
        "outputId": "762488cb-da35-44db-c520-d0020e3a328e"
      },
      "execution_count": null,
      "outputs": [
        {
          "output_type": "stream",
          "name": "stdout",
          "text": [
            "0.0\n"
          ]
        }
      ]
    },
    {
      "cell_type": "code",
      "source": [
        "#now lets prepare the testing data\n",
        "#ideally the esting data should contain both obstacle and obstacle free scenarios\n",
        "#but we will begin with obstacle only for testing purposes\n",
        "list_of_files_S2 = getListOfFiles('/content/drive/MyDrive/irp/Test_Scenarios/Test_S1/_out_rad_nose')\n",
        "#list_of_files_S2 = getListOfFiles('/content/drive/MyDrive/irp/radar_nose_test')"
      ],
      "metadata": {
        "id": "omE0kwm02W_Z"
      },
      "execution_count": null,
      "outputs": []
    },
    {
      "cell_type": "code",
      "source": [
        "radar_data_list_S2 = []\n",
        "for i in range(2):\n",
        "  da = readFile2array(list_of_files_S2[i])\n",
        "  la = text_to_array(da)\n",
        "  radar_data_list_S2.append(la)"
      ],
      "metadata": {
        "id": "9fYZFSuk2ewT"
      },
      "execution_count": null,
      "outputs": []
    },
    {
      "cell_type": "code",
      "source": [
        "list_of_files_S2"
      ],
      "metadata": {
        "id": "gfW6Bo9_MbKA",
        "colab": {
          "base_uri": "https://localhost:8080/"
        },
        "outputId": "fca2bcc3-a559-4864-e50e-ac49d8cecf80"
      },
      "execution_count": null,
      "outputs": [
        {
          "output_type": "execute_result",
          "data": {
            "text/plain": [
              "['/content/drive/MyDrive/irp/Test_Scenarios/Test_S1/_out_rad_nose/000338.txt',\n",
              " '/content/drive/MyDrive/irp/Test_Scenarios/Test_S1/_out_rad_nose/000339.txt']"
            ]
          },
          "metadata": {},
          "execution_count": 38
        }
      ]
    },
    {
      "cell_type": "code",
      "source": [
        "#isolate elevation column\n",
        "X_test = np.array(radar_data_list_S2)\n",
        "print(X_test.shape)\n",
        "X_test_elev = X_test [:,:,0] ##################################################\n",
        "print(X_test_elev.shape)"
      ],
      "metadata": {
        "id": "iBErddGr2ig2",
        "colab": {
          "base_uri": "https://localhost:8080/"
        },
        "outputId": "0429ef6b-6f8f-47cd-db34-76eaa7584abf"
      },
      "execution_count": null,
      "outputs": [
        {
          "output_type": "stream",
          "name": "stdout",
          "text": [
            "(2, 75, 4)\n",
            "(2, 75)\n"
          ]
        }
      ]
    },
    {
      "cell_type": "code",
      "source": [
        ""
      ],
      "metadata": {
        "id": "aqrJYzWQD3ts"
      },
      "execution_count": null,
      "outputs": []
    },
    {
      "cell_type": "code",
      "source": [
        "#check for erroneous data\n",
        "minElement = np.amin(X_test_elev)\n",
        "print('Minimum element from Numpy Array : ', minElement)\n",
        "\n",
        "# Get the indices of minimum element in numpy array\n",
        "result = np.where(X_test_elev == np.amin(X_test_elev))\n",
        "print('Returned tuple of arrays :', result)\n",
        "print('List of Indices of minimum element :', result[0])\n",
        "#index 0 is messed up"
      ],
      "metadata": {
        "id": "ODvrFiy5Dv78",
        "colab": {
          "base_uri": "https://localhost:8080/"
        },
        "outputId": "7af0d8b6-e017-426c-ecd5-2a935c7c854d"
      },
      "execution_count": null,
      "outputs": [
        {
          "output_type": "stream",
          "name": "stdout",
          "text": [
            "Minimum element from Numpy Array :  -1.9993456602096558\n",
            "Returned tuple of arrays : (array([1]), array([5]))\n",
            "List of Indices of minimum element : [1]\n"
          ]
        }
      ]
    },
    {
      "cell_type": "code",
      "source": [
        "# #scale the testing data\n",
        "\n",
        "# #make a loop to add the scaling array to the trianing set\n",
        "# #after this the minimum value should be zero\n",
        "# X_test_elevSL = []\n",
        "# for i in range(2):\n",
        "#   a = X_test_elev[i]+scale_array\n",
        "#   X_test_elevSL.append(a)\n",
        "\n",
        "# #to check the minimum value is 0 and not negative\n",
        "# print(np.amin(X_test_elevSL))\n",
        "# #the above is a list so we must turn it into an array for training.\n",
        "# X_test_elevS = np.array(X_test_elevSL)\n",
        "# X_test_elevS.shape\n",
        "\n",
        "# #our final training set is --- X_train_elev4 ---\n",
        "# #make sure that the testing data is also scaled up the similar way\n",
        "# #by adding the same scaling constant using the ---scale_array---\n",
        "X_test_elevS = abs(X_test_elev)\n"
      ],
      "metadata": {
        "id": "w0LM-9lK2pCv"
      },
      "execution_count": null,
      "outputs": []
    },
    {
      "cell_type": "code",
      "source": [
        "predictions_test_S2 = autoencoder.predict(X_test_elevS)"
      ],
      "metadata": {
        "id": "_JxQ0MB619Rl"
      },
      "execution_count": null,
      "outputs": []
    },
    {
      "cell_type": "code",
      "source": [
        "from sklearn.metrics import mean_squared_error\n",
        "from sklearn.metrics import mean_absolute_error\n",
        "from sklearn.metrics.pairwise import cosine_similarity\n",
        "import statistics\n"
      ],
      "metadata": {
        "id": "GjsxoVPnF9_9"
      },
      "execution_count": null,
      "outputs": []
    },
    {
      "cell_type": "code",
      "source": [
        "mse = mean_squared_error([X_test_elevS[1]],[predictions_test_S2[1]])\n",
        "mse_clear = mean_squared_error([val_set[40]],[predictions_val_set[40]])\n",
        "mae = mean_absolute_error([X_test_elevS[1]],[predictions_test_S2[1]])\n",
        "mae_clear = mean_absolute_error([val_set[40]],[predictions_val_set[40]])\n",
        "cs = cosine_similarity([X_test_elevS[1]],[predictions_test_S2[1]])\n",
        "cs_clear = cosine_similarity([val_set[40]],[predictions_val_set[40]])\n",
        "print('mse obstacle',mse)\n",
        "print('mse clear', mse_clear)\n",
        "print('mae obstacle',mae)\n",
        "print('mae clear', mae_clear)\n",
        "print('cs obstacle',cs)\n",
        "print('cs clear', cs_clear)"
      ],
      "metadata": {
        "id": "tnDnw92EF_Wj",
        "colab": {
          "base_uri": "https://localhost:8080/"
        },
        "outputId": "399d899c-29f4-4b64-8834-cdbb8647877d"
      },
      "execution_count": null,
      "outputs": [
        {
          "output_type": "stream",
          "name": "stdout",
          "text": [
            "mse obstacle 0.4107809384004336\n",
            "mse clear 0.3634777104089009\n",
            "mae obstacle 0.2260877784093221\n",
            "mae clear 0.19944443702697753\n",
            "cs obstacle [[0.91654899]]\n",
            "cs clear [[0.92177419]]\n"
          ]
        }
      ]
    },
    {
      "cell_type": "code",
      "source": [
        "list_mse_clear = []\n",
        "for i in range(499):\n",
        "  mc = mean_squared_error(val_set[i],predictions_val_set[i])\n",
        "  list_mse_clear.append(mc)\n",
        "print('mean mse' , statistics.mean(list_mse_clear))\n",
        "print('max mse' , max(list_mse_clear))"
      ],
      "metadata": {
        "id": "w_DriGmjGvqb",
        "colab": {
          "base_uri": "https://localhost:8080/"
        },
        "outputId": "909f017c-a9ed-40ce-a153-866b21a4637d"
      },
      "execution_count": null,
      "outputs": [
        {
          "output_type": "stream",
          "name": "stdout",
          "text": [
            "mean mse 0.39371444516451776\n",
            "max mse 0.7234516009666163\n"
          ]
        }
      ]
    },
    {
      "cell_type": "code",
      "source": [
        ""
      ],
      "metadata": {
        "id": "-A8E2oxkSbkE"
      },
      "execution_count": null,
      "outputs": []
    },
    {
      "cell_type": "code",
      "source": [
        "# True = False"
      ],
      "metadata": {
        "id": "q8iK2bVMKzJH",
        "colab": {
          "base_uri": "https://localhost:8080/",
          "height": 131
        },
        "outputId": "dac2ac1f-0a34-4367-d77d-48843fa2c59b"
      },
      "execution_count": null,
      "outputs": [
        {
          "output_type": "error",
          "ename": "SyntaxError",
          "evalue": "ignored",
          "traceback": [
            "\u001b[0;36m  File \u001b[0;32m\"<ipython-input-46-6fa9faf6b782>\"\u001b[0;36m, line \u001b[0;32m1\u001b[0m\n\u001b[0;31m    True = False\u001b[0m\n\u001b[0m                ^\u001b[0m\n\u001b[0;31mSyntaxError\u001b[0m\u001b[0;31m:\u001b[0m can't assign to keyword\n"
          ]
        }
      ]
    },
    {
      "cell_type": "code",
      "source": [
        ""
      ],
      "metadata": {
        "id": "TLmp-PISjsPh"
      },
      "execution_count": null,
      "outputs": []
    },
    {
      "cell_type": "markdown",
      "source": [
        "#Test System on unseen test set"
      ],
      "metadata": {
        "id": "NqnRS4OmjvUT"
      }
    },
    {
      "cell_type": "code",
      "source": [
        "#import and process test set \n",
        "\n",
        "#data contains both obstacle and obstacle free scenarios\n",
        "\n",
        "# list_of_files_truth = getListOfFiles('/content/drive/MyDrive/irp/test_dataset_radar/cfz1')\n",
        "\n",
        "list_of_files_truth = getListOfFiles('/content/drive/MyDrive/irp/test_mix/mix1_rad')\n",
        "\n"
      ],
      "metadata": {
        "id": "MSZ-pFYmj24b"
      },
      "execution_count": null,
      "outputs": []
    },
    {
      "cell_type": "code",
      "source": [
        "list_of_files_truth"
      ],
      "metadata": {
        "id": "cNHz8SEdFuWM",
        "colab": {
          "base_uri": "https://localhost:8080/"
        },
        "outputId": "2b292668-04d9-4630-c72b-7616b9d972f4"
      },
      "execution_count": null,
      "outputs": [
        {
          "output_type": "execute_result",
          "data": {
            "text/plain": [
              "['/content/drive/MyDrive/irp/test_mix/mix1_rad/07Hold2.txt',\n",
              " '/content/drive/MyDrive/irp/test_mix/mix1_rad/05desert.txt',\n",
              " '/content/drive/MyDrive/irp/test_mix/mix1_rad/01Airplane.txt',\n",
              " '/content/drive/MyDrive/irp/test_mix/mix1_rad/03firetruck.txt',\n",
              " '/content/drive/MyDrive/irp/test_mix/mix1_rad/02cube.txt',\n",
              " '/content/drive/MyDrive/irp/test_mix/mix1_rad/002428.txt',\n",
              " '/content/drive/MyDrive/irp/test_mix/mix1_rad/002429.txt',\n",
              " '/content/drive/MyDrive/irp/test_mix/mix1_rad/002430.txt',\n",
              " '/content/drive/MyDrive/irp/test_mix/mix1_rad/002431.txt',\n",
              " '/content/drive/MyDrive/irp/test_mix/mix1_rad/002432.txt',\n",
              " '/content/drive/MyDrive/irp/test_mix/mix1_rad/002433.txt',\n",
              " '/content/drive/MyDrive/irp/test_mix/mix1_rad/002434.txt',\n",
              " '/content/drive/MyDrive/irp/test_mix/mix1_rad/002435.txt',\n",
              " '/content/drive/MyDrive/irp/test_mix/mix1_rad/002437.txt',\n",
              " '/content/drive/MyDrive/irp/test_mix/mix1_rad/002438.txt',\n",
              " '/content/drive/MyDrive/irp/test_mix/mix1_rad/002439.txt',\n",
              " '/content/drive/MyDrive/irp/test_mix/mix1_rad/002440.txt',\n",
              " '/content/drive/MyDrive/irp/test_mix/mix1_rad/002441.txt',\n",
              " '/content/drive/MyDrive/irp/test_mix/mix1_rad/002442.txt',\n",
              " '/content/drive/MyDrive/irp/test_mix/mix1_rad/002443.txt',\n",
              " '/content/drive/MyDrive/irp/test_mix/mix1_rad/002444.txt',\n",
              " '/content/drive/MyDrive/irp/test_mix/mix1_rad/002445.txt',\n",
              " '/content/drive/MyDrive/irp/test_mix/mix1_rad/002446.txt',\n",
              " '/content/drive/MyDrive/irp/test_mix/mix1_rad/002447.txt',\n",
              " '/content/drive/MyDrive/irp/test_mix/mix1_rad/002448.txt',\n",
              " '/content/drive/MyDrive/irp/test_mix/mix1_rad/002450.txt',\n",
              " '/content/drive/MyDrive/irp/test_mix/mix1_rad/002452.txt',\n",
              " '/content/drive/MyDrive/irp/test_mix/mix1_rad/002453.txt',\n",
              " '/content/drive/MyDrive/irp/test_mix/mix1_rad/002454.txt',\n",
              " '/content/drive/MyDrive/irp/test_mix/mix1_rad/002455.txt',\n",
              " '/content/drive/MyDrive/irp/test_mix/mix1_rad/002456.txt',\n",
              " '/content/drive/MyDrive/irp/test_mix/mix1_rad/002457.txt',\n",
              " '/content/drive/MyDrive/irp/test_mix/mix1_rad/002459.txt',\n",
              " '/content/drive/MyDrive/irp/test_mix/mix1_rad/002460.txt',\n",
              " '/content/drive/MyDrive/irp/test_mix/mix1_rad/002461.txt',\n",
              " '/content/drive/MyDrive/irp/test_mix/mix1_rad/002462.txt',\n",
              " '/content/drive/MyDrive/irp/test_mix/mix1_rad/002463.txt',\n",
              " '/content/drive/MyDrive/irp/test_mix/mix1_rad/002464.txt',\n",
              " '/content/drive/MyDrive/irp/test_mix/mix1_rad/002465.txt',\n",
              " '/content/drive/MyDrive/irp/test_mix/mix1_rad/002467.txt',\n",
              " '/content/drive/MyDrive/irp/test_mix/mix1_rad/04fox.txt',\n",
              " '/content/drive/MyDrive/irp/test_mix/mix1_rad/09fog.txt']"
            ]
          },
          "metadata": {},
          "execution_count": 101
        }
      ]
    },
    {
      "cell_type": "code",
      "source": [
        "len(list_of_files_truth)"
      ],
      "metadata": {
        "id": "a_Vw8KoUCxEK",
        "colab": {
          "base_uri": "https://localhost:8080/"
        },
        "outputId": "b2765727-27d7-4b1b-ce90-a8bd878d64a3"
      },
      "execution_count": null,
      "outputs": [
        {
          "output_type": "execute_result",
          "data": {
            "text/plain": [
              "42"
            ]
          },
          "metadata": {},
          "execution_count": 102
        }
      ]
    },
    {
      "cell_type": "code",
      "source": [
        "list_of_files_truth.sort(reverse=True)"
      ],
      "metadata": {
        "id": "k2yOvIrx4QnH"
      },
      "execution_count": null,
      "outputs": []
    },
    {
      "cell_type": "code",
      "source": [
        "list_of_files_truth"
      ],
      "metadata": {
        "colab": {
          "base_uri": "https://localhost:8080/"
        },
        "id": "GKMAnMON4bqB",
        "outputId": "391f853a-d0bd-439a-9760-115f75f0b7b8"
      },
      "execution_count": null,
      "outputs": [
        {
          "output_type": "execute_result",
          "data": {
            "text/plain": [
              "['/content/drive/MyDrive/irp/test_mix/mix1_rad/09fog.txt',\n",
              " '/content/drive/MyDrive/irp/test_mix/mix1_rad/07Hold2.txt',\n",
              " '/content/drive/MyDrive/irp/test_mix/mix1_rad/05desert.txt',\n",
              " '/content/drive/MyDrive/irp/test_mix/mix1_rad/04fox.txt',\n",
              " '/content/drive/MyDrive/irp/test_mix/mix1_rad/03firetruck.txt',\n",
              " '/content/drive/MyDrive/irp/test_mix/mix1_rad/02cube.txt',\n",
              " '/content/drive/MyDrive/irp/test_mix/mix1_rad/01Airplane.txt',\n",
              " '/content/drive/MyDrive/irp/test_mix/mix1_rad/002467.txt',\n",
              " '/content/drive/MyDrive/irp/test_mix/mix1_rad/002465.txt',\n",
              " '/content/drive/MyDrive/irp/test_mix/mix1_rad/002464.txt',\n",
              " '/content/drive/MyDrive/irp/test_mix/mix1_rad/002463.txt',\n",
              " '/content/drive/MyDrive/irp/test_mix/mix1_rad/002462.txt',\n",
              " '/content/drive/MyDrive/irp/test_mix/mix1_rad/002461.txt',\n",
              " '/content/drive/MyDrive/irp/test_mix/mix1_rad/002460.txt',\n",
              " '/content/drive/MyDrive/irp/test_mix/mix1_rad/002459.txt',\n",
              " '/content/drive/MyDrive/irp/test_mix/mix1_rad/002457.txt',\n",
              " '/content/drive/MyDrive/irp/test_mix/mix1_rad/002456.txt',\n",
              " '/content/drive/MyDrive/irp/test_mix/mix1_rad/002455.txt',\n",
              " '/content/drive/MyDrive/irp/test_mix/mix1_rad/002454.txt',\n",
              " '/content/drive/MyDrive/irp/test_mix/mix1_rad/002453.txt',\n",
              " '/content/drive/MyDrive/irp/test_mix/mix1_rad/002452.txt',\n",
              " '/content/drive/MyDrive/irp/test_mix/mix1_rad/002450.txt',\n",
              " '/content/drive/MyDrive/irp/test_mix/mix1_rad/002448.txt',\n",
              " '/content/drive/MyDrive/irp/test_mix/mix1_rad/002447.txt',\n",
              " '/content/drive/MyDrive/irp/test_mix/mix1_rad/002446.txt',\n",
              " '/content/drive/MyDrive/irp/test_mix/mix1_rad/002445.txt',\n",
              " '/content/drive/MyDrive/irp/test_mix/mix1_rad/002444.txt',\n",
              " '/content/drive/MyDrive/irp/test_mix/mix1_rad/002443.txt',\n",
              " '/content/drive/MyDrive/irp/test_mix/mix1_rad/002442.txt',\n",
              " '/content/drive/MyDrive/irp/test_mix/mix1_rad/002441.txt',\n",
              " '/content/drive/MyDrive/irp/test_mix/mix1_rad/002440.txt',\n",
              " '/content/drive/MyDrive/irp/test_mix/mix1_rad/002439.txt',\n",
              " '/content/drive/MyDrive/irp/test_mix/mix1_rad/002438.txt',\n",
              " '/content/drive/MyDrive/irp/test_mix/mix1_rad/002437.txt',\n",
              " '/content/drive/MyDrive/irp/test_mix/mix1_rad/002435.txt',\n",
              " '/content/drive/MyDrive/irp/test_mix/mix1_rad/002434.txt',\n",
              " '/content/drive/MyDrive/irp/test_mix/mix1_rad/002433.txt',\n",
              " '/content/drive/MyDrive/irp/test_mix/mix1_rad/002432.txt',\n",
              " '/content/drive/MyDrive/irp/test_mix/mix1_rad/002431.txt',\n",
              " '/content/drive/MyDrive/irp/test_mix/mix1_rad/002430.txt',\n",
              " '/content/drive/MyDrive/irp/test_mix/mix1_rad/002429.txt',\n",
              " '/content/drive/MyDrive/irp/test_mix/mix1_rad/002428.txt']"
            ]
          },
          "metadata": {},
          "execution_count": 104
        }
      ]
    },
    {
      "cell_type": "code",
      "source": [
        "radar_data_list_truth = []\n",
        "for i in range(27):\n",
        "  #list_of_files_truth.sort(reverse=True)\n",
        "  da = readFile2array(list_of_files_truth[i])\n",
        "  la = text_to_array(da)\n",
        "  radar_data_list_truth.append(la)\n",
        "\n",
        "this_is_a_really_long_variable_that_doesnt_need_to_be_that_long_but_since_this_is_a_thesis_it_finally_is_going_to_be_this_long = 'this_is_a_really_long_variable_that_doesnt_need_to_be_that_long_but_since_this_is_a_thesis_it_finally_is_going_to_be_this_long'"
      ],
      "metadata": {
        "id": "0UVUq2gEkK9F"
      },
      "execution_count": null,
      "outputs": []
    },
    {
      "cell_type": "code",
      "source": [
        "#isolate elevation column\n",
        "Y_true = np.array(radar_data_list_truth)\n",
        "print(Y_true.shape)\n",
        "Y_true_elev = Y_true [:,:,0] ##################################################\n",
        "print(Y_true_elev.shape)"
      ],
      "metadata": {
        "id": "KqJSy6oR4t7Y",
        "colab": {
          "base_uri": "https://localhost:8080/"
        },
        "outputId": "451952fb-44f3-4bae-9e89-a16b374af918"
      },
      "execution_count": null,
      "outputs": [
        {
          "output_type": "stream",
          "name": "stdout",
          "text": [
            "(27, 75, 4)\n",
            "(27, 75)\n"
          ]
        }
      ]
    },
    {
      "cell_type": "code",
      "source": [
        "\n",
        "# #scale the testing data\n",
        "\n",
        "# #make a loop to add the scaling array to the trianing set\n",
        "# #after this the minimum value should be zero\n",
        "# Y_true_elevSL = []\n",
        "# for i in range(39):\n",
        "#   a = Y_true_elev[i]+scale_array\n",
        "#   Y_true_elevSL.append(a)\n",
        "\n",
        "# #to check the minimum value is 0 and not negative\n",
        "# print(np.amin(Y_true_elevSL))\n",
        "# #the above is a list so we must turn it into an array for training.\n",
        "# Y_true_elevS = np.array(Y_true_elevSL)\n",
        "# Y_true_elevS.shape\n",
        "\n",
        "# #our final training set is --- X_train_elev4 ---\n",
        "# #make sure that the testing data is also scaled up the similar way\n",
        "# #by adding the same scaling constant using the ---scale_array---\n",
        "\n",
        "Y_true_elevS = abs(Y_true_elev)\n",
        "Y_true_elevS.shape"
      ],
      "metadata": {
        "id": "-F-5QIDwkdLI",
        "colab": {
          "base_uri": "https://localhost:8080/"
        },
        "outputId": "1cc6475c-1e1e-4f8a-f405-cfefb2c7b595"
      },
      "execution_count": null,
      "outputs": [
        {
          "output_type": "execute_result",
          "data": {
            "text/plain": [
              "(27, 75)"
            ]
          },
          "metadata": {},
          "execution_count": 107
        }
      ]
    },
    {
      "cell_type": "code",
      "source": [
        "#make predictions\n",
        "Y_pred = autoencoder.predict(Y_true_elevS)"
      ],
      "metadata": {
        "id": "1oNWvlH7kgzQ"
      },
      "execution_count": null,
      "outputs": []
    },
    {
      "cell_type": "code",
      "source": [
        "\n",
        "mse_pred = []\n",
        "for i in range(27):\n",
        "  mse = mean_squared_error(Y_true_elevS[i],Y_pred[i])\n",
        "  mse_pred.append(mse)"
      ],
      "metadata": {
        "id": "Hr65TgEXkrS7"
      },
      "execution_count": null,
      "outputs": []
    },
    {
      "cell_type": "code",
      "source": [
        "mse_pred = []\n",
        "for i in range(27):\n",
        "  mse = mean_squared_error(Y_true_elevS[i],Y_pred[i])\n",
        "  mse_pred.append(mse)"
      ],
      "metadata": {
        "id": "NmvYfWFDAXls"
      },
      "execution_count": null,
      "outputs": []
    },
    {
      "cell_type": "code",
      "source": [
        "mse_pred"
      ],
      "metadata": {
        "id": "oVotAi_YHPTq",
        "colab": {
          "base_uri": "https://localhost:8080/"
        },
        "outputId": "28428b69-578e-4082-e1bf-0879f0c8d3de"
      },
      "execution_count": null,
      "outputs": [
        {
          "output_type": "execute_result",
          "data": {
            "text/plain": [
              "[0.41010252889432897,\n",
              " 0.4161440209716934,\n",
              " 0.36339810280645773,\n",
              " 0.46191414890026405,\n",
              " 0.604803947019545,\n",
              " 0.9994516476146993,\n",
              " 0.6237980719761205,\n",
              " 0.45977154754549643,\n",
              " 0.2096115235700599,\n",
              " 0.5634793945979734,\n",
              " 0.4015790196960131,\n",
              " 0.4713770476588093,\n",
              " 0.620433366423667,\n",
              " 0.3040854006440342,\n",
              " 0.5220594974601303,\n",
              " 0.3038289881108873,\n",
              " 0.3176237379911885,\n",
              " 0.4087384094378658,\n",
              " 0.30954708738751663,\n",
              " 0.5012292042472543,\n",
              " 0.5209819680318155,\n",
              " 0.4022004514628954,\n",
              " 0.31217483648984984,\n",
              " 0.3633981251141764,\n",
              " 0.5621392364559654,\n",
              " 0.4147368943951261,\n",
              " 0.36485328788399896]"
            ]
          },
          "metadata": {},
          "execution_count": 111
        }
      ]
    },
    {
      "cell_type": "code",
      "source": [
        "sd=2\n",
        "threshold = statistics.mean(list_mse_clear) + sd*statistics.stdev(list_mse_clear)\n",
        "#threshold = 0.8\n",
        "#threshold = 0.8\n",
        "#print(threshold)"
      ],
      "metadata": {
        "id": "FYosohZEzaSs"
      },
      "execution_count": null,
      "outputs": []
    },
    {
      "cell_type": "code",
      "source": [
        "import matplotlib.patches as mpatches\n",
        "from matplotlib.lines import Line2D"
      ],
      "metadata": {
        "id": "YAj23Bf6zUHN"
      },
      "execution_count": null,
      "outputs": []
    },
    {
      "cell_type": "code",
      "source": [
        "x= range(27)\n",
        "y= mse_pred\n",
        "fig, ax = plt.subplots(figsize=(14, 7.5))\n",
        "barlist = plt.bar(x,y, width=0.5)\n",
        "barlist[0].set_color('m')\n",
        "barlist[1].set_color('m')\n",
        "barlist[2].set_color('m')\n",
        "barlist[3].set_color('y')\n",
        "barlist[4].set_color('y')\n",
        "barlist[5].set_color('y')\n",
        "barlist[6].set_color('y')\n",
        "# barlist[7].set_color('y')\n",
        "# barlist[8].set_color('y')\n",
        "plt.hlines(threshold,-1,27,color='red', linestyle='--')\n",
        "\n",
        "#Title and axes\n",
        "plt.suptitle('MSE Distribution on Test Set - CFZ1 - Radar', fontsize = 20)\n",
        "plt.title('Threshold = '+str(threshold)+'\\n'+'(mean mse + '+str(sd)+' standard deviation) calculated using separate obstacle free validation set')\n",
        "plt.xlabel('Samples', fontsize = 10)\n",
        "plt.ylabel('Reconstruction Error',fontsize = 10)\n",
        "plt.yticks(fontsize = 10)\n",
        "plt.xticks(range(27),fontsize = 10)\n",
        "\n",
        "#Legend\n",
        "handles, labels = plt.gca().get_legend_handles_labels()\n",
        "blue_patch = mpatches.Patch(color='tab:blue',label='No Obstacles')\n",
        "yellow_patch = mpatches.Patch(color='y',label='Obstacles')\n",
        "mag_patch = mpatches.Patch(color='magenta',label='Holding points and Desert Landscape')\n",
        "line = Line2D([0],[0], label='Threshold',color='r',linestyle='--')\n",
        "handles.extend([mag_patch, yellow_patch,blue_patch,line])\n",
        "plt.legend(handles=handles)\n",
        "\n",
        "plt.show()\n"
      ],
      "metadata": {
        "id": "x3rYEy6oGmCB",
        "colab": {
          "base_uri": "https://localhost:8080/",
          "height": 524
        },
        "outputId": "70d64efa-dce3-4b30-9799-b68a93d28f6a"
      },
      "execution_count": null,
      "outputs": [
        {
          "output_type": "display_data",
          "data": {
            "text/plain": [
              "<Figure size 1008x540 with 1 Axes>"
            ],
            "image/png": "[encoded data removed]"
          },
          "metadata": {
            "needs_background": "light"
          }
        }
      ]
    },
    {
      "cell_type": "markdown",
      "source": [
        "#Confusion Matrix"
      ],
      "metadata": {
        "id": "KzlDIMQRD7GQ"
      }
    },
    {
      "cell_type": "code",
      "source": [
        ""
      ],
      "metadata": {
        "id": "Wu2LB9mDD_br"
      },
      "execution_count": null,
      "outputs": []
    },
    {
      "cell_type": "code",
      "source": [
        "pred_action_list = []\n",
        "for i in range(27):\n",
        "  if mse_pred[i] > threshold:\n",
        "    action = 'stop'\n",
        "  else:\n",
        "    action = 'go'\n",
        "  pred_action_list.append(action)\n",
        "pred_action_list"
      ],
      "metadata": {
        "id": "-8m95YVXFXWg",
        "colab": {
          "base_uri": "https://localhost:8080/"
        },
        "outputId": "48f9d3e3-1ba3-4fc7-84c6-a62624eee781"
      },
      "execution_count": null,
      "outputs": [
        {
          "output_type": "execute_result",
          "data": {
            "text/plain": [
              "['go',\n",
              " 'go',\n",
              " 'go',\n",
              " 'go',\n",
              " 'stop',\n",
              " 'stop',\n",
              " 'stop',\n",
              " 'go',\n",
              " 'go',\n",
              " 'go',\n",
              " 'go',\n",
              " 'go',\n",
              " 'stop',\n",
              " 'go',\n",
              " 'go',\n",
              " 'go',\n",
              " 'go',\n",
              " 'go',\n",
              " 'go',\n",
              " 'go',\n",
              " 'go',\n",
              " 'go',\n",
              " 'go',\n",
              " 'go',\n",
              " 'go',\n",
              " 'go',\n",
              " 'go']"
            ]
          },
          "metadata": {},
          "execution_count": 115
        }
      ]
    },
    {
      "cell_type": "code",
      "source": [
        "true_action_list = []\n",
        "for k in range(27):\n",
        "    if (2<k<7):\n",
        "      action = 'stop'\n",
        "    else:\n",
        "      action = \"go\"\n",
        "    true_action_list.append(action)\n",
        "true_action_list"
      ],
      "metadata": {
        "id": "mN74MXfozg7z",
        "colab": {
          "base_uri": "https://localhost:8080/"
        },
        "outputId": "50b92e27-2cb2-4b48-abaa-0dfb7c88dc02"
      },
      "execution_count": null,
      "outputs": [
        {
          "output_type": "execute_result",
          "data": {
            "text/plain": [
              "['go',\n",
              " 'go',\n",
              " 'go',\n",
              " 'stop',\n",
              " 'stop',\n",
              " 'stop',\n",
              " 'stop',\n",
              " 'go',\n",
              " 'go',\n",
              " 'go',\n",
              " 'go',\n",
              " 'go',\n",
              " 'go',\n",
              " 'go',\n",
              " 'go',\n",
              " 'go',\n",
              " 'go',\n",
              " 'go',\n",
              " 'go',\n",
              " 'go',\n",
              " 'go',\n",
              " 'go',\n",
              " 'go',\n",
              " 'go',\n",
              " 'go',\n",
              " 'go',\n",
              " 'go']"
            ]
          },
          "metadata": {},
          "execution_count": 121
        }
      ]
    },
    {
      "cell_type": "code",
      "source": [
        "from sklearn.metrics import confusion_matrix\n",
        "import seaborn as sns\n",
        "from sklearn.metrics import plot_confusion_matrix"
      ],
      "metadata": {
        "id": "5-P9NcE7zl8h"
      },
      "execution_count": null,
      "outputs": []
    },
    {
      "cell_type": "code",
      "source": [
        ""
      ],
      "metadata": {
        "id": "WUUDH7rhzrNd"
      },
      "execution_count": null,
      "outputs": []
    },
    {
      "cell_type": "code",
      "source": [
        "cm = confusion_matrix(true_action_list, pred_action_list)\n",
        "fig, ax = plt.subplots(figsize=(7.5, 7.5))\n",
        "fx = sns.heatmap(cm, annot=True, cmap='Blues',cbar=False, annot_kws={'fontsize':50})\n",
        "\n",
        "# labels the title and x, y axis of plot\n",
        "plt.suptitle('Confusion Matrix - CFZ1 - Radar', fontsize = 20)\n",
        "plt.title('threshold = '+str(threshold)+'\\n'+'(mean mse + '+str(sd)+' standard deviation)')\n",
        "\n",
        "# fx.set_xlabel('Predicted Values', )\n",
        "plt.xlabel('Predicted Values', fontsize = 20)\n",
        "plt.ylabel('Actual Values ', fontsize = 20);\n",
        "\n",
        "# labels the boxes\n",
        "fx.xaxis.set_ticklabels(['Go','Stop'])\n",
        "fx.yaxis.set_ticklabels(['Go','Stop'])\n",
        "\n",
        "\n",
        "plt.show()"
      ],
      "metadata": {
        "colab": {
          "base_uri": "https://localhost:8080/",
          "height": 533
        },
        "id": "IIF0Z1lDzvtC",
        "outputId": "570201d5-b906-47b0-f170-48d6de6ebc66"
      },
      "execution_count": null,
      "outputs": [
        {
          "output_type": "display_data",
          "data": {
            "text/plain": [
              "<Figure size 540x540 with 1 Axes>"
            ],
            "image/png": "[encoded data removed]"
          },
          "metadata": {
            "needs_background": "light"
          }
        }
      ]
    },
    {
      "cell_type": "code",
      "source": [
        ""
      ],
      "metadata": {
        "id": "oIDXQL2RzpR8"
      },
      "execution_count": null,
      "outputs": []
    }
  ]
}